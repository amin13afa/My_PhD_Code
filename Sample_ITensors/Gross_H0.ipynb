{
 "cells": [
  {
   "cell_type": "code",
   "execution_count": 1,
   "id": "cf7c7100",
   "metadata": {},
   "outputs": [],
   "source": [
    "using ITensors "
   ]
  },
  {
   "cell_type": "code",
   "execution_count": 2,
   "id": "dd2467b4",
   "metadata": {},
   "outputs": [
    {
     "name": "stdout",
     "output_type": "stream",
     "text": [
      "After sweep 1 energy=-6.796632218166 maxlinkdim=10 maxerr=7.45E-04 time=27.225\n",
      "After sweep 2 energy=-6.799328997347 maxlinkdim=10 maxerr=1.04E-05 time=0.052\n",
      "After sweep 3 energy=-6.799329335560 maxlinkdim=10 maxerr=9.99E-06 time=0.030\n",
      "After sweep 4 energy=-6.799329582862 maxlinkdim=10 maxerr=9.98E-06 time=0.026\n",
      "After sweep 5 energy=-6.799329857089 maxlinkdim=10 maxerr=9.98E-06 time=0.030\n",
      "After sweep 6 energy=-6.799330034071 maxlinkdim=10 maxerr=9.98E-06 time=0.035\n",
      "After sweep 7 energy=-6.799330113336 maxlinkdim=10 maxerr=9.98E-06 time=0.021\n",
      "After sweep 8 energy=-6.799330145221 maxlinkdim=10 maxerr=9.98E-06 time=0.027\n",
      "After sweep 9 energy=-6.799330158499 maxlinkdim=10 maxerr=9.98E-06 time=0.033\n",
      "After sweep 10 energy=-6.799330164387 maxlinkdim=10 maxerr=9.98E-06 time=0.047\n"
     ]
    },
    {
     "data": {
      "text/plain": [
       "(-6.7993301643866335, MPS\n",
       "[1] ((dim=2|id=224|\"Link,l=1\"), (dim=2|id=536|\"Fermion,Site,n=1\"))\n",
       "[2] ((dim=4|id=102|\"Link,l=2\"), (dim=2|id=536|\"Fermion,Site,n=2\"), (dim=2|id=224|\"Link,l=1\"))\n",
       "[3] ((dim=2|id=604|\"Fermion,Site,n=3\"), (dim=8|id=921|\"Link,l=3\"), (dim=4|id=102|\"Link,l=2\"))\n",
       "[4] ((dim=2|id=963|\"Fermion,Site,n=4\"), (dim=10|id=620|\"Link,l=4\"), (dim=8|id=921|\"Link,l=3\"))\n",
       "[5] ((dim=2|id=970|\"Fermion,Site,n=5\"), (dim=10|id=891|\"Link,l=5\"), (dim=10|id=620|\"Link,l=4\"))\n",
       "[6] ((dim=2|id=411|\"Fermion,Site,n=6\"), (dim=10|id=508|\"Link,l=6\"), (dim=10|id=891|\"Link,l=5\"))\n",
       "[7] ((dim=2|id=420|\"Fermion,Site,n=7\"), (dim=8|id=887|\"Link,l=7\"), (dim=10|id=508|\"Link,l=6\"))\n",
       "[8] ((dim=2|id=809|\"Fermion,Site,n=8\"), (dim=4|id=39|\"Link,l=8\"), (dim=8|id=887|\"Link,l=7\"))\n",
       "[9] ((dim=2|id=186|\"Fermion,Site,n=9\"), (dim=2|id=216|\"Link,l=9\"), (dim=4|id=39|\"Link,l=8\"))\n",
       "[10] ((dim=2|id=422|\"Fermion,Site,n=10\"), (dim=2|id=216|\"Link,l=9\"))\n",
       ")"
      ]
     },
     "execution_count": 2,
     "metadata": {},
     "output_type": "execute_result"
    }
   ],
   "source": [
    "N = 10;\n",
    "a = 1;\n",
    "m₀ = 1;\n",
    "sites = siteinds(\"Fermion\",N)\n",
    "ampo = OpSum()\n",
    "############################ First term of our Hamiltonian\n",
    "# In our notation odd sites are related to subscripts 1\n",
    "for j in 1:2:N-2\n",
    "    ampo += 1im/(2a),\"C\",j,\"Cdag\",j+2\n",
    "    ampo += -1im/(2a),\"C\",j+2,\"Cdag\",j\n",
    "end \n",
    "########################### Second term of Hamiltonian \n",
    "# In our notation even sites are related to subscripts 0\n",
    "for j in 2:2:N-2\n",
    "    ampo += -1im/(2a),\"C\",j,\"Cdag\",j+2\n",
    "    ampo += 1im/(2a),\"C\",j+2,\"Cdag\",j\n",
    "end\n",
    "########################## Third part of Hamiltonian \n",
    "for j in 1:N-1\n",
    "    ampo += -1im*m₀,\"Cdag\",j,\"Cdag\",j+1\n",
    "    ampo += 1im*m₀,\"C\",j+1,\"C\",j\n",
    "end \n",
    "######################### \n",
    "H = MPO(ampo, sites)\n",
    "psi₀ = randomMPS(sites,10)\n",
    "sweep = Sweeps(10)\n",
    "setmaxdim!(sweep,repeat([10],10)... )\n",
    "setcutoff!(sweep, 1E-10)\n",
    "e, psi = dmrg(H,psi₀,sweep)"
   ]
  },
  {
   "cell_type": "code",
   "execution_count": 4,
   "id": "9cfe74dd",
   "metadata": {},
   "outputs": [
    {
     "name": "stdout",
     "output_type": "stream",
     "text": [
      "After sweep 1 energy=-7.565991125306 maxlinkdim=10 maxerr=7.38E-04 time=0.027\n",
      "After sweep 2 energy=-7.579836122410 maxlinkdim=10 maxerr=6.57E-05 time=0.074\n",
      "After sweep 3 energy=-7.579876365214 maxlinkdim=10 maxerr=5.58E-05 time=0.082\n",
      "After sweep 4 energy=-7.579876413637 maxlinkdim=10 maxerr=5.56E-05 time=0.048\n",
      "After sweep 5 energy=-7.579876408866 maxlinkdim=10 maxerr=5.56E-05 time=0.069\n",
      "After sweep 6 energy=-7.579876407545 maxlinkdim=10 maxerr=5.56E-05 time=0.095\n",
      "After sweep 7 energy=-7.579876407236 maxlinkdim=10 maxerr=5.56E-05 time=0.105\n",
      "After sweep 8 energy=-7.579876407164 maxlinkdim=10 maxerr=5.56E-05 time=0.090\n",
      "After sweep 9 energy=-7.579876407147 maxlinkdim=10 maxerr=5.56E-05 time=0.115\n",
      "After sweep 10 energy=-7.579876407144 maxlinkdim=10 maxerr=5.56E-05 time=0.065\n"
     ]
    },
    {
     "data": {
      "text/plain": [
       "(-7.579876407143509, MPS\n",
       "[1] ((dim=2|id=340|\"Link,l=1\"), (dim=2|id=764|\"Fermion,Site,n=1\"))\n",
       "[2] ((dim=4|id=755|\"Link,l=2\"), (dim=2|id=312|\"Fermion,Site,n=2\"), (dim=2|id=340|\"Link,l=1\"))\n",
       "[3] ((dim=2|id=863|\"Fermion,Site,n=3\"), (dim=8|id=93|\"Link,l=3\"), (dim=4|id=755|\"Link,l=2\"))\n",
       "[4] ((dim=2|id=509|\"Fermion,Site,n=4\"), (dim=10|id=714|\"Link,l=4\"), (dim=8|id=93|\"Link,l=3\"))\n",
       "[5] ((dim=2|id=572|\"Fermion,Site,n=5\"), (dim=10|id=265|\"Link,l=5\"), (dim=10|id=714|\"Link,l=4\"))\n",
       "[6] ((dim=2|id=493|\"Fermion,Site,n=6\"), (dim=10|id=444|\"Link,l=6\"), (dim=10|id=265|\"Link,l=5\"))\n",
       "[7] ((dim=2|id=567|\"Fermion,Site,n=7\"), (dim=8|id=335|\"Link,l=7\"), (dim=10|id=444|\"Link,l=6\"))\n",
       "[8] ((dim=2|id=106|\"Fermion,Site,n=8\"), (dim=4|id=698|\"Link,l=8\"), (dim=8|id=335|\"Link,l=7\"))\n",
       "[9] ((dim=2|id=708|\"Fermion,Site,n=9\"), (dim=2|id=571|\"Link,l=9\"), (dim=4|id=698|\"Link,l=8\"))\n",
       "[10] ((dim=2|id=721|\"Fermion,Site,n=10\"), (dim=2|id=571|\"Link,l=9\"))\n",
       ")"
      ]
     },
     "execution_count": 4,
     "metadata": {},
     "output_type": "execute_result"
    }
   ],
   "source": [
    "N = 10;\n",
    "a = 1;\n",
    "m₀ = 1;\n",
    "g₀ = 1;\n",
    "sites = siteinds(\"Fermion\",N)\n",
    "ampo = OpSum()\n",
    "############################ First term of our Hamiltonian\n",
    "# In our notation odd sites are related to subscripts 1\n",
    "for j in 1:2:N-2\n",
    "    ampo += 1im/(2a),\"C\",j,\"Cdag\",j+2\n",
    "    ampo += -1im/(2a),\"C\",j+2,\"Cdag\",j\n",
    "end \n",
    "########################### Second term of Hamiltonian \n",
    "# In our notation even sites are related to subscripts 0\n",
    "for j in 2:2:N-2\n",
    "    ampo += -1im/(2a),\"C\",j,\"Cdag\",j+2\n",
    "    ampo += 1im/(2a),\"C\",j+2,\"Cdag\",j\n",
    "end\n",
    "########################## Third part of Hamiltonian \n",
    "for j in 1:N-1\n",
    "    ampo += -1im*m₀,\"Cdag\",j,\"Cdag\",j+1\n",
    "    ampo += 1im*m₀,\"C\",j+1,\"C\",j\n",
    "end \n",
    "######################### \n",
    "# Computation of H_g\n",
    "for j in 1:2:N\n",
    "    ampo += g₀/2a,\"C*C\",j+1,\"Cdag*Cdag\",j\n",
    "    ampo += g₀/2a,\"Cdag*Cdag\",j+1,\"C*C\",j\n",
    "    ampo -= g₀/2a,\"C*Cdag\",j+1,\"Cdag*C\",j\n",
    "    ampo -= g₀/2a,\"Cdag*C\",j+1,\"C*Cdag\",j\n",
    "end\n",
    "\n",
    "\n",
    "H = MPO(ampo, sites)\n",
    "psi₀ = randomMPS(sites,10)\n",
    "sweep = Sweeps(10)\n",
    "setmaxdim!(sweep,repeat([10],10)... )\n",
    "setcutoff!(sweep, 1E-10)\n",
    "e2, psi2 = dmrg(H,psi₀,sweep)"
   ]
  },
  {
   "cell_type": "code",
   "execution_count": null,
   "id": "11873d1b",
   "metadata": {},
   "outputs": [],
   "source": []
  },
  {
   "cell_type": "code",
   "execution_count": 2,
   "id": "720883a7",
   "metadata": {},
   "outputs": [
    {
     "name": "stdout",
     "output_type": "stream",
     "text": [
      "After sweep 1 energy=-15.859267740289 maxlinkdim=10 maxerr=1.69E-04 time=25.828\n",
      "After sweep 2 energy=-15.860083740787 maxlinkdim=10 maxerr=2.80E-07 time=0.031\n",
      "After sweep 3 energy=-15.860083747601 maxlinkdim=10 maxerr=8.34E-08 time=0.043\n",
      "After sweep 4 energy=-15.860083747599 maxlinkdim=10 maxerr=8.30E-08 time=0.064\n",
      "After sweep 5 energy=-15.860083747599 maxlinkdim=10 maxerr=8.30E-08 time=0.027\n",
      "After sweep 6 energy=-15.860083747599 maxlinkdim=10 maxerr=8.30E-08 time=0.029\n",
      "After sweep 7 energy=-15.860083747599 maxlinkdim=10 maxerr=8.30E-08 time=0.030\n",
      "After sweep 8 energy=-15.860083747599 maxlinkdim=10 maxerr=8.30E-08 time=0.058\n",
      "After sweep 9 energy=-15.860083747599 maxlinkdim=10 maxerr=8.30E-08 time=0.038\n",
      "After sweep 10 energy=-15.860083747599 maxlinkdim=10 maxerr=8.30E-08 time=0.029\n"
     ]
    },
    {
     "data": {
      "text/plain": [
       "(-15.860083747598967, MPS\n",
       "[1] ((dim=2|id=53|\"Link,l=1\"), (dim=2|id=921|\"Fermion,Site,n=1\"))\n",
       "[2] ((dim=4|id=259|\"Link,l=2\"), (dim=2|id=773|\"Fermion,Site,n=2\"), (dim=2|id=53|\"Link,l=1\"))\n",
       "[3] ((dim=2|id=104|\"Fermion,Site,n=3\"), (dim=8|id=623|\"Link,l=3\"), (dim=4|id=259|\"Link,l=2\"))\n",
       "[4] ((dim=2|id=793|\"Fermion,Site,n=4\"), (dim=10|id=407|\"Link,l=4\"), (dim=8|id=623|\"Link,l=3\"))\n",
       "[5] ((dim=2|id=18|\"Fermion,Site,n=5\"), (dim=10|id=67|\"Link,l=5\"), (dim=10|id=407|\"Link,l=4\"))\n",
       "[6] ((dim=2|id=575|\"Fermion,Site,n=6\"), (dim=10|id=535|\"Link,l=6\"), (dim=10|id=67|\"Link,l=5\"))\n",
       "[7] ((dim=2|id=460|\"Fermion,Site,n=7\"), (dim=8|id=827|\"Link,l=7\"), (dim=10|id=535|\"Link,l=6\"))\n",
       "[8] ((dim=2|id=811|\"Fermion,Site,n=8\"), (dim=4|id=639|\"Link,l=8\"), (dim=8|id=827|\"Link,l=7\"))\n",
       "[9] ((dim=2|id=981|\"Fermion,Site,n=9\"), (dim=2|id=214|\"Link,l=9\"), (dim=4|id=639|\"Link,l=8\"))\n",
       "[10] ((dim=2|id=302|\"Fermion,Site,n=10\"), (dim=2|id=214|\"Link,l=9\"))\n",
       ")"
      ]
     },
     "execution_count": 2,
     "metadata": {},
     "output_type": "execute_result"
    }
   ],
   "source": [
    "N = 10;\n",
    "a = 1;\n",
    "m₀ = 1;\n",
    "g₀ = 1;\n",
    "r = 1;\n",
    "sites = siteinds(\"Fermion\",N)\n",
    "ampo = OpSum()\n",
    "############################ First term of our Hamiltonian\n",
    "# In our notation odd sites are related to subscripts 1\n",
    "for j in 1:2:N-2\n",
    "    ampo += 1im/(2a),\"C\",j,\"Cdag\",j+2\n",
    "    ampo += -1im/(2a),\"C\",j+2,\"Cdag\",j\n",
    "end \n",
    "########################### Second term of Hamiltonian \n",
    "# In our notation even sites are related to subscripts 0\n",
    "for j in 2:2:N-2\n",
    "    ampo += -1im/(2a),\"C\",j,\"Cdag\",j+2\n",
    "    ampo += 1im/(2a),\"C\",j+2,\"Cdag\",j\n",
    "end\n",
    "########################## Third part of Hamiltonian \n",
    "for j in 1:N-1\n",
    "    ampo += -1im*m₀,\"Cdag\",j,\"Cdag\",j+1\n",
    "    ampo += 1im*m₀,\"C\",j+1,\"C\",j\n",
    "end \n",
    "######################### \n",
    "# Computation of H_g\n",
    "for j in 1:2:N\n",
    "    ampo += g₀/2a,\"C*C\",j+1,\"Cdag*Cdag\",j\n",
    "    ampo += g₀/2a,\"Cdag*Cdag\",j+1,\"C*C\",j\n",
    "    ampo -= g₀/2a,\"C*Cdag\",j+1,\"Cdag*C\",j\n",
    "    ampo -= g₀/2a,\"Cdag*C\",j+1,\"C*Cdag\",j\n",
    "end\n",
    "############################\n",
    "# Computing Wilson term \n",
    " for j in 1:N-1\n",
    "    ampo += 1im*r/(2a),\"C\",j,\"Cdag\",j+1\n",
    "    ampo += -1im*r/(2a),\"C\",j+1,\"Cdag\",j\n",
    "end \n",
    "for j in 1:2:N-1\n",
    "    ampo += -2im,\"Cdag\",j+1,\"C\",j\n",
    "    ampo += 2im,\"Cdag\",j,\"C\",j+1\n",
    "end\n",
    "for j in 1:2:N-3\n",
    "    ampo += 1im*r/(2a),\"Cdag\",j,\"C\",j+3\n",
    "    ampo += -1im*r/(2a),\"Cdag\",j+3,\"C\",j\n",
    "end\n",
    "\n",
    "\n",
    "H = MPO(ampo, sites)\n",
    "psi₀ = randomMPS(sites,10)\n",
    "sweep = Sweeps(10)\n",
    "setmaxdim!(sweep,repeat([10],10)... )\n",
    "# sweep = Sweeps(3)\n",
    "# setmaxdim!(sweep, 10,10,20)\n",
    "setcutoff!(sweep, 1E-10)\n",
    "e, psi = dmrg(H,psi₀,sweep)"
   ]
  },
  {
   "cell_type": "code",
   "execution_count": null,
   "id": "4e823a76",
   "metadata": {},
   "outputs": [],
   "source": []
  }
 ],
 "metadata": {
  "kernelspec": {
   "display_name": "Julia 1.6.3",
   "language": "julia",
   "name": "julia-1.6"
  },
  "language_info": {
   "file_extension": ".jl",
   "mimetype": "application/julia",
   "name": "julia",
   "version": "1.6.3"
  }
 },
 "nbformat": 4,
 "nbformat_minor": 5
}
