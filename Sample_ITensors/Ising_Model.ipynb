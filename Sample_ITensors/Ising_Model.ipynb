{
 "cells": [
  {
   "cell_type": "markdown",
   "metadata": {},
   "source": [
    "By this notebook we are going to compare two different methods to solve Ising Model."
   ]
  },
  {
   "cell_type": "markdown",
   "metadata": {},
   "source": [
    "# Exact Diagonalization"
   ]
  },
  {
   "cell_type": "code",
   "execution_count": null,
   "metadata": {},
   "outputs": [],
   "source": [
    "using LinearAlgebra "
   ]
  },
  {
   "cell_type": "markdown",
   "metadata": {},
   "source": [
    "$H = H_1 + H_2 =\\sum_{<ij>} S^z_j S^z_{j+1} + \\sum_j S^x_j $"
   ]
  },
  {
   "cell_type": "code",
   "execution_count": null,
   "metadata": {},
   "outputs": [],
   "source": [
    "function Ising_exact_diag(N,h)\n",
    "    # Introducing Components\n",
    "    ⊗(x,y) = kron(x,y)\n",
    "    id = [1 0;0 1]\n",
    "    σˣ = [0 1;1 0]\n",
    "    σᶻ = [1 0;0 -1]\n",
    "    # H1, nearest neighbor interaction term\n",
    "    H1 = fill(id,N)\n",
    "    H1[1] = σᶻ\n",
    "    H1[2] = σᶻ\n",
    "    # H2, transverse field term\n",
    "    H2 = fill(id,N)\n",
    "    H2[1] = σˣ \n",
    "    # Creation of H\n",
    "    H = zeros(Int, 2^N, 2^N)\n",
    "    # Adding H1 to H\n",
    "    for j in 1:N-1\n",
    "        H -= foldl(⊗,H1)\n",
    "        H1 = circshift(H1,1)\n",
    "    end\n",
    "    # Adding H2 to H\n",
    "    for j in 1:N\n",
    "        H -= h*foldl(⊗,H2)\n",
    "        H2 = circshift(H2,1)\n",
    "    end\n",
    "    return H\n",
    "end"
   ]
  },
  {
   "cell_type": "code",
   "execution_count": null,
   "metadata": {},
   "outputs": [],
   "source": [
    "# test with sample N and h\n",
    "H = Ising_exact_diag(5,1);"
   ]
  },
  {
   "cell_type": "code",
   "execution_count": null,
   "metadata": {},
   "outputs": [],
   "source": [
    "# Compute eigenvalues and eigenstates of H\n",
    "vals, vecs = eigen(H);"
   ]
  },
  {
   "cell_type": "code",
   "execution_count": null,
   "metadata": {},
   "outputs": [],
   "source": [
    "# get the groundstate \n",
    "vals[1]"
   ]
  },
  {
   "cell_type": "markdown",
   "metadata": {},
   "source": [
    "# DMRG method"
   ]
  },
  {
   "cell_type": "code",
   "execution_count": null,
   "metadata": {},
   "outputs": [],
   "source": [
    "using ITensors "
   ]
  },
  {
   "cell_type": "code",
   "execution_count": null,
   "metadata": {},
   "outputs": [],
   "source": [
    "function Ising_dmrg(N,h)\n",
    "    # Creation of sites\n",
    "    sites = siteinds(\"S=1\",N)\n",
    "    # Make an OpSum object\n",
    "    ops = OpSum()\n",
    "    # First term of Hamiltonian\n",
    "    for j=1:N-1\n",
    "        ops -= \"Sz\",j,\"Sz\",j+1\n",
    "    end \n",
    "    # Second term of Hamiltonian\n",
    "    for j=1:N\n",
    "        ops -= h,\"Sx\",j\n",
    "    end\n",
    "    # Construct MPO\n",
    "    H_dmrg = MPO(ops,sites)\n",
    "    # Construct MPS\n",
    "    psi0 = randomMPS(sites,10)\n",
    "    # Determine sweeps number\n",
    "    swp = Sweeps(5)\n",
    "    # Determine maximum dimension and cutoff\n",
    "    setmaxdim!(swp,10,10,20,50,100)\n",
    "    setcutoff!(swp,1E-10)\n",
    "    return dmrg(H_dmrg,psi0,swp)\n",
    "end "
   ]
  },
  {
   "cell_type": "code",
   "execution_count": null,
   "metadata": {},
   "outputs": [],
   "source": [
    "# Get energy and psi produced by dmrg algorithm\n",
    "energy, psi = Ising_dmrg(5,1);"
   ]
  },
  {
   "cell_type": "code",
   "execution_count": null,
   "metadata": {},
   "outputs": [],
   "source": []
  },
  {
   "cell_type": "code",
   "execution_count": null,
   "metadata": {},
   "outputs": [],
   "source": []
  },
  {
   "cell_type": "code",
   "execution_count": null,
   "metadata": {},
   "outputs": [],
   "source": []
  }
 ],
 "metadata": {
  "kernelspec": {
   "display_name": "Julia 1.6.3",
   "language": "julia",
   "name": "julia-1.6"
  },
  "language_info": {
   "file_extension": ".jl",
   "mimetype": "application/julia",
   "name": "julia",
   "version": "1.6.3"
  }
 },
 "nbformat": 4,
 "nbformat_minor": 4
}
