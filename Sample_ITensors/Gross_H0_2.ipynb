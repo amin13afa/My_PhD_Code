{
 "cells": [
  {
   "cell_type": "code",
   "execution_count": 1,
   "id": "cf7c7100",
   "metadata": {},
   "outputs": [],
   "source": [
    "using ITensors "
   ]
  },
  {
   "cell_type": "code",
   "execution_count": 2,
   "id": "dd2467b4",
   "metadata": {},
   "outputs": [
    {
     "name": "stdout",
     "output_type": "stream",
     "text": [
      "After sweep 1 energy=-6.792955559562 maxlinkdim=10 maxerr=2.07E-04 time=24.112\n",
      "After sweep 2 energy=-6.799328195397 maxlinkdim=10 maxerr=1.22E-05 time=0.016\n",
      "After sweep 3 energy=-6.799329308090 maxlinkdim=10 maxerr=9.98E-06 time=0.023\n",
      "After sweep 4 energy=-6.799329557431 maxlinkdim=10 maxerr=9.98E-06 time=0.027\n",
      "After sweep 5 energy=-6.799329834744 maxlinkdim=10 maxerr=9.98E-06 time=0.051\n",
      "After sweep 6 energy=-6.799330025459 maxlinkdim=10 maxerr=9.98E-06 time=0.027\n",
      "After sweep 7 energy=-6.799330106884 maxlinkdim=10 maxerr=9.98E-06 time=0.031\n",
      "After sweep 8 energy=-6.799330135594 maxlinkdim=10 maxerr=9.98E-06 time=0.029\n",
      "After sweep 9 energy=-6.799330145467 maxlinkdim=10 maxerr=9.98E-06 time=0.046\n",
      "After sweep 10 energy=-6.799330148966 maxlinkdim=10 maxerr=9.98E-06 time=0.026\n"
     ]
    },
    {
     "data": {
      "text/plain": [
       "(-6.799330148966011, MPS\n",
       "[1] ((dim=2|id=60|\"Link,l=1\"), (dim=2|id=751|\"Fermion,Site,n=1\"))\n",
       "[2] ((dim=4|id=840|\"Link,l=2\"), (dim=2|id=862|\"Fermion,Site,n=2\"), (dim=2|id=60|\"Link,l=1\"))\n",
       "[3] ((dim=2|id=707|\"Fermion,Site,n=3\"), (dim=8|id=886|\"Link,l=3\"), (dim=4|id=840|\"Link,l=2\"))\n",
       "[4] ((dim=2|id=143|\"Fermion,Site,n=4\"), (dim=10|id=524|\"Link,l=4\"), (dim=8|id=886|\"Link,l=3\"))\n",
       "[5] ((dim=2|id=547|\"Fermion,Site,n=5\"), (dim=10|id=630|\"Link,l=5\"), (dim=10|id=524|\"Link,l=4\"))\n",
       "[6] ((dim=2|id=143|\"Fermion,Site,n=6\"), (dim=10|id=242|\"Link,l=6\"), (dim=10|id=630|\"Link,l=5\"))\n",
       "[7] ((dim=2|id=445|\"Fermion,Site,n=7\"), (dim=8|id=291|\"Link,l=7\"), (dim=10|id=242|\"Link,l=6\"))\n",
       "[8] ((dim=2|id=588|\"Fermion,Site,n=8\"), (dim=4|id=424|\"Link,l=8\"), (dim=8|id=291|\"Link,l=7\"))\n",
       "[9] ((dim=2|id=779|\"Fermion,Site,n=9\"), (dim=2|id=29|\"Link,l=9\"), (dim=4|id=424|\"Link,l=8\"))\n",
       "[10] ((dim=2|id=839|\"Fermion,Site,n=10\"), (dim=2|id=29|\"Link,l=9\"))\n",
       ")"
      ]
     },
     "execution_count": 2,
     "metadata": {},
     "output_type": "execute_result"
    }
   ],
   "source": [
    "N = 10;\n",
    "a = 1;\n",
    "m₀ = 1;\n",
    "sites = siteinds(\"Fermion\",N)\n",
    "ampo = OpSum()\n",
    "############################ First term of our Hamiltonian\n",
    "# In our notation odd sites are related to subscripts 1\n",
    "for j in 1:2:N-2\n",
    "    ampo += 1im/(2a),\"C\",j,\"Cdag\",j+2\n",
    "    ampo += -1im/(2a),\"C\",j+2,\"Cdag\",j\n",
    "end \n",
    "########################### Second term of Hamiltonian \n",
    "# In our notation even sites are related to subscripts 0\n",
    "for j in 2:2:N-2\n",
    "    ampo += -1im/(2a),\"C\",j,\"Cdag\",j+2\n",
    "    ampo += 1im/(2a),\"C\",j+2,\"Cdag\",j\n",
    "end\n",
    "########################## Third part of Hamiltonian \n",
    "for j in 1:N-1\n",
    "    ampo += -1im*m₀,\"Cdag\",j,\"Cdag\",j+1\n",
    "    ampo += 1im*m₀,\"C\",j+1,\"C\",j\n",
    "end \n",
    "######################### \n",
    "H = MPO(ampo, sites)\n",
    "psi₀ = randomMPS(sites,10)\n",
    "sweep = Sweeps(10)\n",
    "setmaxdim!(sweep,repeat([10],10)... )\n",
    "setcutoff!(sweep, 1E-10)\n",
    "e, psi = dmrg(H,psi₀,sweep)"
   ]
  },
  {
   "cell_type": "code",
   "execution_count": 3,
   "id": "5a8a3fd3",
   "metadata": {},
   "outputs": [
    {
     "name": "stdout",
     "output_type": "stream",
     "text": [
      "After sweep 1 energy=-7.548956636090 maxlinkdim=10 maxerr=7.62E-04 time=0.030\n",
      "After sweep 2 energy=-7.579747619756 maxlinkdim=10 maxerr=7.72E-05 time=0.033\n",
      "After sweep 3 energy=-7.579876107775 maxlinkdim=10 maxerr=5.62E-05 time=0.067\n",
      "After sweep 4 energy=-7.579876405423 maxlinkdim=10 maxerr=5.56E-05 time=0.034\n",
      "After sweep 5 energy=-7.579876407285 maxlinkdim=10 maxerr=5.56E-05 time=0.047\n",
      "After sweep 6 energy=-7.579876407184 maxlinkdim=10 maxerr=5.56E-05 time=0.068\n",
      "After sweep 7 energy=-7.579876407152 maxlinkdim=10 maxerr=5.56E-05 time=0.038\n",
      "After sweep 8 energy=-7.579876407145 maxlinkdim=10 maxerr=5.56E-05 time=0.030\n",
      "After sweep 9 energy=-7.579876407143 maxlinkdim=10 maxerr=5.56E-05 time=0.052\n",
      "After sweep 10 energy=-7.579876407142 maxlinkdim=10 maxerr=5.56E-05 time=0.040\n"
     ]
    },
    {
     "data": {
      "text/plain": [
       "(-7.579876407142461, MPS\n",
       "[1] ((dim=2|id=563|\"Link,l=1\"), (dim=2|id=839|\"Fermion,Site,n=1\"))\n",
       "[2] ((dim=4|id=433|\"Link,l=2\"), (dim=2|id=207|\"Fermion,Site,n=2\"), (dim=2|id=563|\"Link,l=1\"))\n",
       "[3] ((dim=2|id=963|\"Fermion,Site,n=3\"), (dim=8|id=192|\"Link,l=3\"), (dim=4|id=433|\"Link,l=2\"))\n",
       "[4] ((dim=2|id=764|\"Fermion,Site,n=4\"), (dim=10|id=799|\"Link,l=4\"), (dim=8|id=192|\"Link,l=3\"))\n",
       "[5] ((dim=2|id=460|\"Fermion,Site,n=5\"), (dim=10|id=180|\"Link,l=5\"), (dim=10|id=799|\"Link,l=4\"))\n",
       "[6] ((dim=2|id=769|\"Fermion,Site,n=6\"), (dim=10|id=277|\"Link,l=6\"), (dim=10|id=180|\"Link,l=5\"))\n",
       "[7] ((dim=2|id=496|\"Fermion,Site,n=7\"), (dim=8|id=782|\"Link,l=7\"), (dim=10|id=277|\"Link,l=6\"))\n",
       "[8] ((dim=2|id=933|\"Fermion,Site,n=8\"), (dim=4|id=435|\"Link,l=8\"), (dim=8|id=782|\"Link,l=7\"))\n",
       "[9] ((dim=2|id=548|\"Fermion,Site,n=9\"), (dim=2|id=855|\"Link,l=9\"), (dim=4|id=435|\"Link,l=8\"))\n",
       "[10] ((dim=2|id=437|\"Fermion,Site,n=10\"), (dim=2|id=855|\"Link,l=9\"))\n",
       ")"
      ]
     },
     "execution_count": 3,
     "metadata": {},
     "output_type": "execute_result"
    }
   ],
   "source": [
    "N = 10;\n",
    "a = 1;\n",
    "m₀ = 1;\n",
    "g₀ = 1;\n",
    "sites = siteinds(\"Fermion\",N)\n",
    "ampo = OpSum()\n",
    "############################ First term of our Hamiltonian\n",
    "# In our notation odd sites are related to subscripts 1\n",
    "for j in 1:2:N-2\n",
    "    ampo += 1im/(2a),\"C\",j,\"Cdag\",j+2\n",
    "    ampo += -1im/(2a),\"C\",j+2,\"Cdag\",j\n",
    "end \n",
    "########################### Second term of Hamiltonian \n",
    "# In our notation even sites are related to subscripts 0\n",
    "for j in 2:2:N-2\n",
    "    ampo += -1im/(2a),\"C\",j,\"Cdag\",j+2\n",
    "    ampo += 1im/(2a),\"C\",j+2,\"Cdag\",j\n",
    "end\n",
    "########################## Third part of Hamiltonian \n",
    "for j in 1:N-1\n",
    "    ampo += -1im*m₀,\"Cdag\",j,\"Cdag\",j+1\n",
    "    ampo += 1im*m₀,\"C\",j+1,\"C\",j\n",
    "end \n",
    "######################### \n",
    "# Computation of H_g\n",
    "for j in 1:2:N\n",
    "    ampo += g₀/2a,\"C*C\",j+1,\"Cdag*Cdag\",j\n",
    "    ampo += g₀/2a,\"Cdag*Cdag\",j+1,\"C*C\",j\n",
    "    ampo -= g₀/2a,\"C*Cdag\",j+1,\"Cdag*C\",j\n",
    "    ampo -= g₀/2a,\"Cdag*C\",j+1,\"C*Cdag\",j\n",
    "end\n",
    "\n",
    "\n",
    "H = MPO(ampo, sites)\n",
    "psi₀ = randomMPS(sites,10)\n",
    "sweep = Sweeps(10)\n",
    "setmaxdim!(sweep,repeat([10],10)... )\n",
    "setcutoff!(sweep, 1E-10)\n",
    "e2, psi2 = dmrg(H,psi₀,sweep)"
   ]
  },
  {
   "cell_type": "code",
   "execution_count": null,
   "id": "dff88a5c",
   "metadata": {},
   "outputs": [],
   "source": []
  }
 ],
 "metadata": {
  "kernelspec": {
   "display_name": "Julia 1.6.3",
   "language": "julia",
   "name": "julia-1.6"
  },
  "language_info": {
   "file_extension": ".jl",
   "mimetype": "application/julia",
   "name": "julia",
   "version": "1.6.3"
  }
 },
 "nbformat": 4,
 "nbformat_minor": 5
}
