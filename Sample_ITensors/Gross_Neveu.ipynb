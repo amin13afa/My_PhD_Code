{
 "cells": [
  {
   "cell_type": "code",
   "execution_count": null,
   "id": "a456aaf5",
   "metadata": {},
   "outputs": [],
   "source": [
    "using ITensors "
   ]
  },
  {
   "cell_type": "code",
   "execution_count": null,
   "id": "e63e6280",
   "metadata": {},
   "outputs": [],
   "source": [
    "N = 10;\n",
    "a = 1;\n",
    "m₀ = 1;\n",
    "g₀ = 1;\n",
    "r = 1;\n",
    "sites = siteinds(\"Fermion\",N)\n",
    "ampo = OpSum()\n",
    "############################ First term of our Hamiltonian\n",
    "# In our notation odd sites are related to subscripts 1\n",
    "for j in 1:2:N-2\n",
    "    ampo += 1im/(2a),\"C\",j,\"Cdag\",j+2\n",
    "    ampo += -1im/(2a),\"C\",j+2,\"Cdag\",j\n",
    "end \n",
    "########################### Second term of Hamiltonian \n",
    "# In our notation even sites are related to subscripts 0\n",
    "for j in 2:2:N-2\n",
    "    ampo += -1im/(2a),\"C\",j,\"Cdag\",j+2\n",
    "    ampo += 1im/(2a),\"C\",j+2,\"Cdag\",j\n",
    "end\n",
    "########################## Third part of Hamiltonian \n",
    "for j in 1:N-1\n",
    "    ampo += -1im*m₀,\"Cdag\",j,\"Cdag\",j+1\n",
    "    ampo += 1im*m₀,\"C\",j+1,\"C\",j\n",
    "end \n",
    "######################### \n",
    "# Computation of H_g\n",
    "for j in 1:2:N\n",
    "    ampo += g₀/2a,\"C*C\",j+1,\"Cdag*Cdag\",j\n",
    "    ampo += g₀/2a,\"Cdag*Cdag\",j+1,\"C*C\",j\n",
    "    ampo -= g₀/2a,\"C*Cdag\",j+1,\"Cdag*C\",j\n",
    "    ampo -= g₀/2a,\"Cdag*C\",j+1,\"C*Cdag\",j\n",
    "end\n",
    "############################\n",
    "# Computing Wilson term \n",
    " for j in 1:N-1\n",
    "    ampo += 1im*r/(2a),\"C\",j,\"Cdag\",j+1\n",
    "    ampo += -1im*r/(2a),\"C\",j+1,\"Cdag\",j\n",
    "end \n",
    "for j in 1:2:N-1\n",
    "    ampo += -2im,\"Cdag\",j+1,\"C\",j\n",
    "    ampo += 2im,\"Cdag\",j,\"C\",j+1\n",
    "end\n",
    "for j in 1:2:N-3\n",
    "    ampo += 1im*r/(2a),\"Cdag\",j,\"C\",j+3\n",
    "    ampo += -1im*r/(2a),\"Cdag\",j+3,\"C\",j\n",
    "end\n",
    "\n",
    "\n",
    "H = MPO(ampo, sites)\n",
    "psi₀ = randomMPS(sites,10)\n",
    "sweep = Sweeps(10)\n",
    "setmaxdim!(sweep,repeat([10],10)... )\n",
    "setcutoff!(sweep, 1E-10)\n",
    "e, psi = dmrg(H,psi₀,sweep)"
   ]
  },
  {
   "cell_type": "code",
   "execution_count": null,
   "id": "963549d9",
   "metadata": {},
   "outputs": [],
   "source": []
  }
 ],
 "metadata": {
  "kernelspec": {
   "display_name": "Julia 1.6.3",
   "language": "julia",
   "name": "julia-1.6"
  },
  "language_info": {
   "file_extension": ".jl",
   "mimetype": "application/julia",
   "name": "julia",
   "version": "1.6.3"
  }
 },
 "nbformat": 4,
 "nbformat_minor": 5
}
