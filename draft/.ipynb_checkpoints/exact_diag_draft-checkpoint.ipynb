{
 "cells": [
  {
   "cell_type": "code",
   "execution_count": 25,
   "id": "22730420",
   "metadata": {},
   "outputs": [],
   "source": [
    "using LinearAlgebra"
   ]
  },
  {
   "cell_type": "code",
   "execution_count": 17,
   "id": "06cc2709",
   "metadata": {},
   "outputs": [
    {
     "data": {
      "text/plain": [
       "2×2 Matrix{Int64}:\n",
       " 0  1\n",
       " 1  0"
      ]
     },
     "execution_count": 17,
     "metadata": {},
     "output_type": "execute_result"
    }
   ],
   "source": [
    "σˣ = [0 1; 1 0]"
   ]
  },
  {
   "cell_type": "code",
   "execution_count": 18,
   "id": "b9ee5b9f",
   "metadata": {},
   "outputs": [
    {
     "data": {
      "text/plain": [
       "2×2 Matrix{Complex{Int64}}:\n",
       " 0+0im  0-1im\n",
       " 0+1im  0+0im"
      ]
     },
     "execution_count": 18,
     "metadata": {},
     "output_type": "execute_result"
    }
   ],
   "source": [
    "σʸ = [0 -im; im 0]"
   ]
  },
  {
   "cell_type": "code",
   "execution_count": 19,
   "id": "0e388410",
   "metadata": {},
   "outputs": [
    {
     "data": {
      "text/plain": [
       "2×2 Matrix{Int64}:\n",
       " 1   0\n",
       " 0  -1"
      ]
     },
     "execution_count": 19,
     "metadata": {},
     "output_type": "execute_result"
    }
   ],
   "source": [
    "σᶻ = [1 0; 0 -1]"
   ]
  },
  {
   "cell_type": "code",
   "execution_count": 27,
   "id": "e366dde2",
   "metadata": {},
   "outputs": [
    {
     "data": {
      "text/plain": [
       "0 + 0im"
      ]
     },
     "execution_count": 27,
     "metadata": {},
     "output_type": "execute_result"
    }
   ],
   "source": [
    "tr(σˣ) + tr(σʸ) + tr(σᶻ)"
   ]
  },
  {
   "cell_type": "code",
   "execution_count": 28,
   "id": "c7ae48eb",
   "metadata": {},
   "outputs": [
    {
     "data": {
      "text/plain": [
       "4×4 Matrix{Int64}:\n",
       " 0  0  1  0\n",
       " 0  0  0  1\n",
       " 1  0  0  0\n",
       " 0  1  0  0"
      ]
     },
     "execution_count": 28,
     "metadata": {},
     "output_type": "execute_result"
    }
   ],
   "source": [
    "u0 = [0 0 1 0; 0 0 0 1; 1 0 0 0; 0 1 0 0]"
   ]
  },
  {
   "cell_type": "code",
   "execution_count": 29,
   "id": "b01abea0",
   "metadata": {},
   "outputs": [
    {
     "data": {
      "text/plain": [
       "4×4 Matrix{Complex{Int64}}:\n",
       " 0+0im  0+0im  0+0im  0-1im\n",
       " 0+0im  0+0im  0-1im  0+0im\n",
       " 0+0im  0+1im  0+0im  0+0im\n",
       " 0+1im  0+0im  0+0im  0+0im"
      ]
     },
     "execution_count": 29,
     "metadata": {},
     "output_type": "execute_result"
    }
   ],
   "source": [
    "u1 = [0 0 0 -im; 0 0 -im 0; 0 im 0 0; im 0 0 0]"
   ]
  },
  {
   "cell_type": "code",
   "execution_count": 30,
   "id": "e57137ac",
   "metadata": {},
   "outputs": [
    {
     "data": {
      "text/plain": [
       "4×4 Matrix{Int64}:\n",
       "  0  0  0  -1\n",
       "  0  0  1   0\n",
       "  0  1  0   0\n",
       " -1  0  0   0"
      ]
     },
     "execution_count": 30,
     "metadata": {},
     "output_type": "execute_result"
    }
   ],
   "source": [
    "u2 = [0 0 0 -1; 0 0 1 0; 0 1 0 0; -1 0 0 0]"
   ]
  },
  {
   "cell_type": "code",
   "execution_count": 31,
   "id": "c0fbfdff",
   "metadata": {},
   "outputs": [
    {
     "data": {
      "text/plain": [
       "4×4 Matrix{Complex{Int64}}:\n",
       " 0+0im  0+0im  0-1im  0+0im\n",
       " 0+0im  0+0im  0+0im  0+1im\n",
       " 0+1im  0+0im  0+0im  0+0im\n",
       " 0+0im  0-1im  0+0im  0+0im"
      ]
     },
     "execution_count": 31,
     "metadata": {},
     "output_type": "execute_result"
    }
   ],
   "source": [
    "u3 = [0 0 -im 0; 0 0 0 im; im 0 0 0; 0 -im 0 0]"
   ]
  },
  {
   "cell_type": "code",
   "execution_count": 32,
   "id": "cc4e5f9a",
   "metadata": {},
   "outputs": [
    {
     "data": {
      "text/plain": [
       "1 - 1im"
      ]
     },
     "execution_count": 32,
     "metadata": {},
     "output_type": "execute_result"
    }
   ],
   "source": [
    "conj(1+im)"
   ]
  },
  {
   "cell_type": "code",
   "execution_count": 33,
   "id": "1c0cf030",
   "metadata": {},
   "outputs": [
    {
     "data": {
      "text/plain": [
       "2×2 Matrix{Complex{Int64}}:\n",
       " 0+0im  0+1im\n",
       " 0-1im  0+0im"
      ]
     },
     "execution_count": 33,
     "metadata": {},
     "output_type": "execute_result"
    }
   ],
   "source": [
    "conj(σʸ)"
   ]
  },
  {
   "cell_type": "code",
   "execution_count": 36,
   "id": "905336a6",
   "metadata": {},
   "outputs": [
    {
     "data": {
      "text/plain": [
       "2×2 Matrix{Complex{Int64}}:\n",
       " 1+0im  0+2im\n",
       " 3+5im  4+0im"
      ]
     },
     "execution_count": 36,
     "metadata": {},
     "output_type": "execute_result"
    }
   ],
   "source": [
    "a = [1 2im; 3+5im 4]"
   ]
  },
  {
   "cell_type": "code",
   "execution_count": 38,
   "id": "6d4d0491",
   "metadata": {},
   "outputs": [
    {
     "data": {
      "text/plain": [
       "2×2 adjoint(::Matrix{Complex{Int64}}) with eltype Complex{Int64}:\n",
       " 1+0im  3-5im\n",
       " 0-2im  4+0im"
      ]
     },
     "execution_count": 38,
     "metadata": {},
     "output_type": "execute_result"
    }
   ],
   "source": [
    "conj(transpose(a))"
   ]
  },
  {
   "cell_type": "code",
   "execution_count": 41,
   "id": "e7fbf0d6",
   "metadata": {},
   "outputs": [
    {
     "data": {
      "text/plain": [
       "dagger (generic function with 1 method)"
      ]
     },
     "execution_count": 41,
     "metadata": {},
     "output_type": "execute_result"
    }
   ],
   "source": [
    "dagger(T) = conj(transpose(T))"
   ]
  },
  {
   "cell_type": "code",
   "execution_count": 42,
   "id": "068c07b7",
   "metadata": {},
   "outputs": [
    {
     "data": {
      "text/plain": [
       "2×2 adjoint(::Matrix{Complex{Int64}}) with eltype Complex{Int64}:\n",
       " 1+0im  3-5im\n",
       " 0-2im  4+0im"
      ]
     },
     "execution_count": 42,
     "metadata": {},
     "output_type": "execute_result"
    }
   ],
   "source": [
    "dagger(a)"
   ]
  },
  {
   "cell_type": "code",
   "execution_count": null,
   "id": "51d994b4",
   "metadata": {},
   "outputs": [],
   "source": []
  }
 ],
 "metadata": {
  "kernelspec": {
   "display_name": "Julia 1.6.3",
   "language": "julia",
   "name": "julia-1.6"
  },
  "language_info": {
   "file_extension": ".jl",
   "mimetype": "application/julia",
   "name": "julia",
   "version": "1.6.3"
  }
 },
 "nbformat": 4,
 "nbformat_minor": 5
}
