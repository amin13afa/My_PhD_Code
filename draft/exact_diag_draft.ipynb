{
 "cells": [
  {
   "cell_type": "code",
   "execution_count": 21,
   "id": "22730420",
   "metadata": {},
   "outputs": [],
   "source": [
    "using LinearAlgebra\n",
    "using SparseArrays\n",
    "using Arpack"
   ]
  },
  {
   "cell_type": "code",
   "execution_count": 2,
   "id": "06cc2709",
   "metadata": {},
   "outputs": [],
   "source": [
    "σˣ = [0 1; 1 0];\n",
    "σʸ = [0 -im; im 0];\n",
    "σᶻ = [1 0; 0 -1];"
   ]
  },
  {
   "cell_type": "code",
   "execution_count": 3,
   "id": "c7ae48eb",
   "metadata": {},
   "outputs": [],
   "source": [
    "u0 = [0 0 1 0; 0 0 0 1; 1 0 0 0; 0 1 0 0];\n",
    "u1 = [0 0 0 -im; 0 0 -im 0; 0 im 0 0; im 0 0 0];\n",
    "u2 = [0 0 0 -1; 0 0 1 0; 0 1 0 0; -1 0 0 0];\n",
    "u3 = [0 0 -im 0; 0 0 0 im; im 0 0 0; 0 -im 0 0];"
   ]
  },
  {
   "cell_type": "code",
   "execution_count": 4,
   "id": "e7fbf0d6",
   "metadata": {},
   "outputs": [
    {
     "data": {
      "text/plain": [
       "dagger (generic function with 1 method)"
      ]
     },
     "execution_count": 4,
     "metadata": {},
     "output_type": "execute_result"
    }
   ],
   "source": [
    "dagger(T) = conj(transpose(T))"
   ]
  },
  {
   "cell_type": "code",
   "execution_count": 5,
   "id": "51d994b4",
   "metadata": {},
   "outputs": [
    {
     "data": {
      "text/plain": [
       "⊗ (generic function with 1 method)"
      ]
     },
     "execution_count": 5,
     "metadata": {},
     "output_type": "execute_result"
    }
   ],
   "source": [
    "⊗(x,y) = kron(x,y)"
   ]
  },
  {
   "cell_type": "code",
   "execution_count": 18,
   "id": "2d944c65",
   "metadata": {},
   "outputs": [],
   "source": [
    "u00 = [u0+im*u3 im*u1+u2; im*u1-u2 u0-im*u3];\n",
    "u00_dag = [u0-im*u3 -im*u1-u2; -im*u1+u2 u0+im*u3];"
   ]
  },
  {
   "cell_type": "code",
   "execution_count": 19,
   "id": "8a6ac78b",
   "metadata": {},
   "outputs": [
    {
     "data": {
      "text/plain": [
       "H0"
      ]
     },
     "execution_count": 19,
     "metadata": {},
     "output_type": "execute_result"
    }
   ],
   "source": [
    "\"\"\"\n",
    "On our lattice we have just four site\n",
    "!! But without considering any boundry condition\n",
    "We just examine our codes\n",
    "\"\"\"\n",
    "H0 = ⊗(⊗(u00,u00),⊗(u00_dag,u00_dag)) + ⊗(⊗(u00,u00),⊗(u00_dag,u00_dag))"
   ]
  },
  {
   "cell_type": "code",
   "execution_count": 7,
   "id": "e9443c3f",
   "metadata": {},
   "outputs": [],
   "source": [
    "u11 = u0+im*u3;\n",
    "u12 = im*u1+u2;\n",
    "u21 = im*u1-u2;\n",
    "u22 = u0-im*u3;"
   ]
  },
  {
   "cell_type": "code",
   "execution_count": 8,
   "id": "14e98625",
   "metadata": {},
   "outputs": [],
   "source": [
    "u11_dag = u0-im*u3;\n",
    "u12_dag = -im*u1-u2;\n",
    "u21_dag = -im*u1+u2;\n",
    "u22_dag = u0+im*u3;"
   ]
  },
  {
   "cell_type": "code",
   "execution_count": 9,
   "id": "6ec6f5d5",
   "metadata": {},
   "outputs": [
    {
     "data": {
      "text/plain": [
       "256×256 Matrix{Complex{Int64}}:\n",
       " 0+0im  0+0im  0+0im  0+0im  0+0im  …  0+0im  0+0im  0+0im  0+0im  0+0im\n",
       " 0+0im  0+0im  0+0im  0+0im  0+0im     0+0im  0+0im  0+0im  0+0im  0+0im\n",
       " 0+0im  0+0im  0+0im  0+0im  0+0im     0+0im  0+0im  0+0im  0+0im  0+0im\n",
       " 0+0im  0+0im  0+0im  0+0im  0+0im     0+0im  0+0im  0+0im  0+0im  0+0im\n",
       " 0+0im  0+0im  0+0im  0+0im  0+0im     0+0im  0+0im  0+0im  0+0im  0+0im\n",
       " 0+0im  0+0im  0+0im  0+0im  0+0im  …  0+0im  0+0im  0+0im  0+0im  0+0im\n",
       " 0+0im  0+0im  0+0im  0+0im  0+0im     0+0im  0+0im  0+0im  0+0im  0+0im\n",
       " 0+0im  0+0im  0+0im  0+0im  0+0im     0+0im  0+0im  0+0im  0+0im  0+0im\n",
       " 0+0im  0+0im  0+0im  0+0im  0+0im     0+0im  0+0im  0+0im  0+0im  0+0im\n",
       " 0+0im  0+0im  0+0im  0+0im  0+0im     0+0im  0+0im  0+0im  0+0im  0+0im\n",
       " 0+0im  0+0im  0+0im  0+0im  0+0im  …  0+0im  0+0im  0+0im  0+0im  0+0im\n",
       " 0+0im  0+0im  0+0im  0+0im  0+0im     0+0im  0+0im  0+0im  0+0im  0+0im\n",
       " 0+0im  0+0im  0+0im  0+0im  0+0im     0+0im  0+0im  0+0im  0+0im  0+0im\n",
       "  ⋮                                 ⋱                               ⋮\n",
       " 0+0im  0+0im  0+0im  0+0im  0+0im     0+0im  0+0im  0+0im  0+0im  0+0im\n",
       " 0+0im  0+0im  0+0im  0+0im  0+0im  …  0+0im  0+0im  0+0im  0+0im  0+0im\n",
       " 0+0im  0+0im  0+0im  0+0im  0+0im     0+0im  0+0im  0+0im  0+0im  0+0im\n",
       " 0+0im  0+0im  0+0im  0+0im  0+0im     0+0im  0+0im  0+0im  0+0im  0+0im\n",
       " 0+0im  0+0im  0+0im  0+0im  0+0im     0+0im  0+0im  0+0im  0+0im  0+0im\n",
       " 0+0im  0+0im  0+0im  0+0im  0+0im     0+0im  0+0im  0+0im  0+0im  0+0im\n",
       " 0+0im  0+0im  0+0im  0+0im  0+0im  …  0+0im  0+0im  0+0im  0+0im  0+0im\n",
       " 0+0im  0+0im  0+0im  0+0im  0+0im     0+0im  0+0im  0+0im  0+0im  0+0im\n",
       " 0+0im  0+0im  0+0im  0+0im  0+0im     0+0im  0+0im  0+0im  0+0im  0+0im\n",
       " 0+0im  0+0im  0+0im  0+0im  0+0im     0+0im  0+0im  0+0im  0+0im  0+0im\n",
       " 0+0im  0+0im  0+0im  0+0im  0+0im     0+0im  0+0im  0+0im  0+0im  0+0im\n",
       " 0+0im  0+0im  0+0im  0+0im  0+0im  …  0+0im  0+0im  0+0im  0+0im  0+0im"
      ]
     },
     "execution_count": 9,
     "metadata": {},
     "output_type": "execute_result"
    }
   ],
   "source": [
    "\"\"\"\n",
    "Tr(U_sq)\n",
    "\"\"\"\n",
    "H_U_sq = ⊗(⊗(u11,u11),⊗(u11_dag,u11_dag)) +  ⊗(⊗(u11,u11),⊗(u12_dag,u21_dag)) \n",
    "        +  ⊗(⊗(u12,u21),⊗(u11_dag,u11_dag)) +  ⊗(⊗(u12,u21),⊗(u12_dag,u21_dag))\n",
    "        +  ⊗(⊗(u11,u12),⊗(u21_dag,u11_dag)) +  ⊗(⊗(u11,u12),⊗(u22_dag,u21_dag))\n",
    "        +  ⊗(⊗(u12,u22),⊗(u21_dag,u11_dag)) +  ⊗(⊗(u12,u22),⊗(u22_dag,u21_dag))\n",
    "        +  ⊗(⊗(u21,u11),⊗(u11_dag,u12_dag)) +  ⊗(⊗(u21,u11),⊗(u12_dag,u22_dag)) \n",
    "        +  ⊗(⊗(u22,u21),⊗(u11_dag,u12_dag)) +  ⊗(⊗(u22,u21),⊗(u12_dag,u22_dag)) \n",
    "        +  ⊗(⊗(u21,u12),⊗(u21_dag,u12_dag)) +  ⊗(⊗(u21,u12),⊗(u22_dag,u22_dag)) \n",
    "        +  ⊗(⊗(u22,u22),⊗(u21_dag,u12_dag)) +  ⊗(⊗(u22,u22),⊗(u22_dag,u22_dag))\n",
    "        "
   ]
  },
  {
   "cell_type": "code",
   "execution_count": 10,
   "id": "1ea9032e",
   "metadata": {},
   "outputs": [
    {
     "data": {
      "text/plain": [
       "256×256 Matrix{Complex{Int64}}:\n",
       " 0+0im  0+0im  0+0im  0+0im  0+0im  …  0+0im  0+0im  0+0im  0+0im  0+0im\n",
       " 0+0im  0+0im  0+0im  0+0im  0+0im     0+0im  0+0im  0+0im  0+0im  0+0im\n",
       " 0+0im  0+0im  0+0im  0+0im  0+0im     0+0im  0+0im  0+0im  0+0im  0+0im\n",
       " 0+0im  0+0im  0+0im  0+0im  0+0im     0+0im  0+0im  0+0im  0+0im  0+0im\n",
       " 0+0im  0+0im  0+0im  0+0im  0+0im     0+0im  0+0im  0+0im  0+0im  0+0im\n",
       " 0+0im  0+0im  0+0im  0+0im  0+0im  …  0+0im  0+0im  0+0im  0+0im  0+0im\n",
       " 0+0im  0+0im  0+0im  0+0im  0+0im     0+0im  0+0im  0+0im  0+0im  0+0im\n",
       " 0+0im  0+0im  0+0im  0+0im  0+0im     0+0im  0+0im  0+0im  0+0im  0+0im\n",
       " 0+0im  0+0im  0+0im  0+0im  0+0im     0+0im  0+0im  0+0im  0+0im  0+0im\n",
       " 0+0im  0+0im  0+0im  0+0im  0+0im     0+0im  0+0im  0+0im  0+0im  0+0im\n",
       " 0+0im  0+0im  0+0im  0+0im  0+0im  …  0+0im  0+0im  0+0im  0+0im  0+0im\n",
       " 0+0im  0+0im  0+0im  0+0im  0+0im     0+0im  0+0im  0+0im  0+0im  0+0im\n",
       " 0+0im  0+0im  0+0im  0+0im  0+0im     0+0im  0+0im  0+0im  0+0im  0+0im\n",
       "  ⋮                                 ⋱                               ⋮\n",
       " 0+0im  0+0im  0+0im  0+0im  0+0im     0+0im  0+0im  0+0im  0+0im  0+0im\n",
       " 0+0im  0+0im  0+0im  0+0im  0+0im  …  0+0im  0+0im  0+0im  0+0im  0+0im\n",
       " 0+0im  0+0im  0+0im  0+0im  0+0im     0+0im  0+0im  0+0im  0+0im  0+0im\n",
       " 0+0im  0+0im  0+0im  0+0im  0+0im     0+0im  0+0im  0+0im  0+0im  0+0im\n",
       " 0+0im  0+0im  0+0im  0+0im  0+0im     0+0im  0+0im  0+0im  0+0im  0+0im\n",
       " 0+0im  0+0im  0+0im  0+0im  0+0im     0+0im  0+0im  0+0im  0+0im  0+0im\n",
       " 0+0im  0+0im  0+0im  0+0im  0+0im  …  0+0im  0+0im  0+0im  0+0im  0+0im\n",
       " 0+0im  0+0im  0+0im  0+0im  0+0im     0+0im  0+0im  0+0im  0+0im  0+0im\n",
       " 0+0im  0+0im  0+0im  0+0im  0+0im     0+0im  0+0im  0+0im  0+0im  0+0im\n",
       " 0+0im  0+0im  0+0im  0+0im  0+0im     0+0im  0+0im  0+0im  0+0im  0+0im\n",
       " 0+0im  0+0im  0+0im  0+0im  0+0im     0+0im  0+0im  0+0im  0+0im  0+0im\n",
       " 0+0im  0+0im  0+0im  0+0im  0+0im  …  0+0im  0+0im  0+0im  0+0im  0+0im"
      ]
     },
     "execution_count": 10,
     "metadata": {},
     "output_type": "execute_result"
    }
   ],
   "source": [
    "\"\"\"\n",
    "Tr(U_sq_dag)\n",
    "\"\"\"\n",
    "H_U_sq_dag =  ⊗(⊗(u11_dag,u11_dag),⊗(u11,u11)) + ⊗(⊗(u21_dag,u12_dag),⊗(u11,u11)) \n",
    "            + ⊗(⊗(u11_dag,u11_dag),⊗(u21,u12)) + ⊗(⊗(u21_dag,u12_dag),⊗(u21,u12))\n",
    "            + ⊗(⊗(u11_dag,u21_dag),⊗(u12,u11)) + ⊗(⊗(u21_dag,u22_dag),⊗(u12,u11))\n",
    "            + ⊗(⊗(u11_dag,u21_dag),⊗(u22,u12)) + ⊗(⊗(u21_dag,u22_dag),⊗(u22,u12))\n",
    "            + ⊗(⊗(u12_dag,u11_dag),⊗(u11,u21)) + ⊗(⊗(u22_dag,u12_dag),⊗(u11,u21))\n",
    "            + ⊗(⊗(u12_dag,u11_dag),⊗(u21,u22)) + ⊗(⊗(u22_dag,u12_dag),⊗(u21,u22))\n",
    "            + ⊗(⊗(u12_dag,u21_dag),⊗(u12,u21)) + ⊗(⊗(u22_dag,u22_dag),⊗(u12,u21)) \n",
    "            + ⊗(⊗(u12_dag,u21_dag),⊗(u22,u22)) + ⊗(⊗(u22_dag,u22_dag),⊗(u22,u22)) "
   ]
  },
  {
   "cell_type": "code",
   "execution_count": 11,
   "id": "05e64a01",
   "metadata": {},
   "outputs": [
    {
     "data": {
      "text/plain": [
       "256×256 Matrix{Complex{Int64}}:\n",
       " 0+0im  0+0im  0+0im  0+0im  0+0im  …  0+0im  0+0im  0+0im  0+0im  0+0im\n",
       " 0+0im  0+0im  0+0im  0+0im  0+0im     0+0im  0+0im  0+0im  0+0im  0+0im\n",
       " 0+0im  0+0im  0+0im  0+0im  0+0im     0+0im  0+0im  0+0im  0+0im  0+0im\n",
       " 0+0im  0+0im  0+0im  0+0im  0+0im     0+0im  0+0im  0+0im  0+0im  0+0im\n",
       " 0+0im  0+0im  0+0im  0+0im  0+0im     0+0im  0+0im  0+0im  0+0im  0+0im\n",
       " 0+0im  0+0im  0+0im  0+0im  0+0im  …  0+0im  0+0im  0+0im  0+0im  0+0im\n",
       " 0+0im  0+0im  0+0im  0+0im  0+0im     0+0im  0+0im  0+0im  0+0im  0+0im\n",
       " 0+0im  0+0im  0+0im  0+0im  0+0im     0+0im  0+0im  0+0im  0+0im  0+0im\n",
       " 0+0im  0+0im  0+0im  0+0im  0+0im     0+0im  0+0im  0+0im  0+0im  0+0im\n",
       " 0+0im  0+0im  0+0im  0+0im  0+0im     0+0im  0+0im  0+0im  0+0im  0+0im\n",
       " 0+0im  0+0im  0+0im  0+0im  0+0im  …  0+0im  0+0im  0+0im  0+0im  0+0im\n",
       " 0+0im  0+0im  0+0im  0+0im  0+0im     0+0im  0+0im  0+0im  0+0im  0+0im\n",
       " 0+0im  0+0im  0+0im  0+0im  0+0im     0+0im  0+0im  0+0im  0+0im  0+0im\n",
       "  ⋮                                 ⋱                               ⋮\n",
       " 0+0im  0+0im  0+0im  0+0im  0+0im     0+0im  0+0im  0+0im  0+0im  0+0im\n",
       " 0+0im  0+0im  0+0im  0+0im  0+0im  …  0+0im  0+0im  0+0im  0+0im  0+0im\n",
       " 0+0im  0+0im  0+0im  0+0im  0+0im     0+0im  0+0im  0+0im  0+0im  0+0im\n",
       " 0+0im  0+0im  0+0im  0+0im  0+0im     0+0im  0+0im  0+0im  0+0im  0+0im\n",
       " 0+0im  0+0im  0+0im  0+0im  0+0im     0+0im  0+0im  0+0im  0+0im  0+0im\n",
       " 0+0im  0+0im  0+0im  0+0im  0+0im     0+0im  0+0im  0+0im  0+0im  0+0im\n",
       " 0+0im  0+0im  0+0im  0+0im  0+0im  …  0+0im  0+0im  0+0im  0+0im  0+0im\n",
       " 0+0im  0+0im  0+0im  0+0im  0+0im     0+0im  0+0im  0+0im  0+0im  0+0im\n",
       " 0+0im  0+0im  0+0im  0+0im  0+0im     0+0im  0+0im  0+0im  0+0im  0+0im\n",
       " 0+0im  0+0im  0+0im  0+0im  0+0im     0+0im  0+0im  0+0im  0+0im  0+0im\n",
       " 0+0im  0+0im  0+0im  0+0im  0+0im     0+0im  0+0im  0+0im  0+0im  0+0im\n",
       " 0+0im  0+0im  0+0im  0+0im  0+0im  …  0+0im  0+0im  0+0im  0+0im  0+0im"
      ]
     },
     "execution_count": 11,
     "metadata": {},
     "output_type": "execute_result"
    }
   ],
   "source": [
    "H = H_U_sq + H_U_sq_dag"
   ]
  },
  {
   "cell_type": "code",
   "execution_count": 13,
   "id": "31c82f12",
   "metadata": {},
   "outputs": [
    {
     "data": {
      "text/plain": [
       "256×256 SparseMatrixCSC{Complex{Int64}, Int64} with 64 stored entries:\n",
       "⠀⠀⠀⠀⠀⠀⠀⠀⠀⠀⠀⠀⠀⠀⠀⠀⠀⠀⠀⠀⠀⠀⠀⠀⠀⡀⠴⠄⠀⠀⠀⠀⠀⠀⠀⠀⠀⠀⠀⠀\n",
       "⠀⠀⠀⠀⠀⠀⠀⠀⠀⠀⠀⠀⠀⠀⠀⠀⠀⠀⠀⠀⠀⠀⠀⠀⠀⠁⠀⠀⠀⠀⠀⠀⠀⠀⠀⠀⠆⠀⠀⠀\n",
       "⠀⠀⠀⠀⠀⠀⠀⠀⠀⠀⠀⠀⠀⠀⠀⠀⠀⠀⠀⠀⠀⠀⠀⠀⠀⠀⠀⠀⠀⠀⠀⠀⠀⠀⠀⠰⠀⠀⠀⠀\n",
       "⠀⠀⠀⠀⠀⠀⠀⠀⠀⠀⠀⠀⠀⠀⠀⠀⠀⠀⠀⠀⠀⠀⠀⠀⠀⠀⠀⠀⠀⠀⠀⢀⠀⠀⠀⠀⠀⠀⠀⠀\n",
       "⠀⠀⠀⠀⠀⠀⠀⠀⠀⠀⠀⠀⠀⠀⠀⠀⠀⠀⠀⠀⠀⠀⢠⡔⠋⠀⠀⠀⠀⠀⢀⠁⠀⠀⠀⠀⠀⠀⠀⠀\n",
       "⠀⠀⠀⠀⠀⠀⠀⠀⠀⠀⠀⠀⠀⠀⠀⠀⠀⠀⠀⠀⠀⠀⠀⠀⠀⠀⠀⠀⠀⠀⠈⠀⠀⠀⠀⠀⠀⠀⠀⠀\n",
       "⠀⠀⠀⠀⠀⠀⠀⠀⠀⠀⠀⠀⠀⠀⠀⠀⠀⠀⠀⠀⠀⠀⠀⠀⠀⠀⠀⠀⠀⠀⠀⠀⠀⠀⠀⠀⠀⠀⠰⠀\n",
       "⠀⠀⠀⠀⠀⠀⠀⠀⠀⠀⠀⠀⠀⠀⠀⠀⠀⠀⠀⠀⠀⠀⠀⠀⠀⠀⠀⠀⠀⠀⠀⡠⠀⠀⠀⠀⠀⠀⠂⠀\n",
       "⠀⠀⠀⠀⠀⠀⠀⠀⠀⠀⠀⠀⠀⠀⠀⠀⠀⠀⠀⠀⠀⠀⠀⠀⠀⠀⠀⠀⠀⠀⠰⠀⠀⠀⠀⠀⠀⠀⠀⠀\n",
       "⠀⠀⠀⠀⠀⠀⠀⠀⠀⠀⠀⠀⠀⠀⠀⠀⠀⠀⠀⠀⠀⠀⠀⠀⠀⠀⠀⠀⠀⠀⠀⠀⠀⠀⠀⠀⠀⠀⠀⠀\n",
       "⠀⠀⠀⠀⠀⠀⠀⠀⠀⠀⠀⠀⠀⠀⠀⠀⠀⠀⠀⠀⠀⠀⠀⠀⠀⠀⠀⠀⠀⠀⠀⠀⠀⠀⠀⠀⠀⠀⠀⠀\n",
       "⠀⠀⠀⠀⠀⠀⠀⠀⠀⠆⠀⠀⠀⠀⠀⠀⠰⠀⠀⠀⠀⠀⠀⠀⠀⠀⠀⠀⠀⠀⠀⠀⠀⠀⠀⠀⠀⠀⠀⠀\n",
       "⠀⠠⠀⠀⠀⠀⠀⠀⠊⠀⠀⠀⠀⠀⠀⠐⠁⠀⠀⠀⠀⠀⠀⠀⠀⠀⠀⠀⠀⠀⠀⠀⠀⠀⠀⠀⠀⠀⠀⠀\n",
       "⠀⠆⠀⠀⠀⠀⠀⠀⠀⠀⠀⢀⠀⠀⠀⠀⠀⠀⠀⠀⠀⠀⠀⠀⠀⠀⠀⠀⠀⠀⠀⠀⠀⠀⠀⠀⠀⠀⠀⠀\n",
       "⠀⠀⠀⠀⠀⠀⠀⠀⠀⠀⢀⠄⠀⠀⠀⠀⠀⠀⠀⠀⠀⠀⠀⠀⠀⠀⠀⠀⠀⠀⠀⠀⠀⠀⠀⠀⠀⠀⠀⠀\n",
       "⠀⠀⠀⠀⠀⠀⠀⠀⠀⠀⠀⠀⠀⠀⠀⣠⠐⠂⠀⠀⠀⠀⠀⠀⠀⠀⠀⠀⠀⠀⠀⠀⠀⠀⠀⠀⠀⠀⠀⠀\n",
       "⠀⠀⠀⠀⠀⠀⠀⠀⠀⠀⠀⠀⠀⠀⠀⠁⠀⠀⠀⠀⠀⠀⠀⠀⠀⠀⠀⠀⠀⠀⠀⠀⠀⠀⠀⠀⠀⠀⠀⠀\n",
       "⠀⠀⠀⠀⠀⠀⠀⠀⠀⠀⠀⠀⠀⠀⠀⠀⠀⠀⠀⠀⠀⠀⠀⠀⠀⠀⠀⠀⠀⠀⠀⠀⠀⠀⠀⠀⠀⠀⠀⠀\n",
       "⠀⠀⠀⠀⠀⠀⠀⠀⠀⠀⠀⠀⠀⠀⠀⠀⠀⠀⠀⠀⠀⠀⠀⠀⠀⠀⠀⠀⠀⠀⠀⠀⠀⠀⠀⠀⠀⠀⠀⠀\n",
       "⠀⠀⠀⠀⠀⠀⠀⠀⠀⠀⠀⠀⢐⠆⠉⠀⠀⠀⠀⠀⠀⠀⠀⠀⠀⠀⠀⠀⠀⠀⠀⠀⠀⠀⠀⠀⠀⠀⠀⠀"
      ]
     },
     "execution_count": 13,
     "metadata": {},
     "output_type": "execute_result"
    }
   ],
   "source": [
    "sparse(H)"
   ]
  },
  {
   "cell_type": "code",
   "execution_count": 14,
   "id": "92e662db",
   "metadata": {},
   "outputs": [
    {
     "data": {
      "text/plain": [
       "256×256 SparseMatrixCSC{Complex{Int64}, Int64} with 64 stored entries:\n",
       "⠀⠀⠀⠀⠀⠀⠀⠀⠀⠀⠀⠀⠀⠀⠀⠀⠀⠀⠀⠀⠀⠀⠀⠀⠀⡀⠴⠄⠀⠀⠀⠀⠀⠀⠀⠀⠀⠀⠀⠀\n",
       "⠀⠀⠀⠀⠀⠀⠀⠀⠀⠀⠀⠀⠀⠀⠀⠀⠀⠀⠀⠀⠀⠀⠀⠀⠀⠁⠀⠀⠀⠀⠀⠀⠀⠀⠀⠀⠆⠀⠀⠀\n",
       "⠀⠀⠀⠀⠀⠀⠀⠀⠀⠀⠀⠀⠀⠀⠀⠀⠀⠀⠀⠀⠀⠀⠀⠀⠀⠀⠀⠀⠀⠀⠀⠀⠀⠀⠀⠰⠀⠀⠀⠀\n",
       "⠀⠀⠀⠀⠀⠀⠀⠀⠀⠀⠀⠀⠀⠀⠀⠀⠀⠀⠀⠀⠀⠀⠀⠀⠀⠀⠀⠀⠀⠀⠀⢀⠀⠀⠀⠀⠀⠀⠀⠀\n",
       "⠀⠀⠀⠀⠀⠀⠀⠀⠀⠀⠀⠀⠀⠀⠀⠀⠀⠀⠀⠀⠀⠀⢠⡔⠋⠀⠀⠀⠀⠀⢀⠁⠀⠀⠀⠀⠀⠀⠀⠀\n",
       "⠀⠀⠀⠀⠀⠀⠀⠀⠀⠀⠀⠀⠀⠀⠀⠀⠀⠀⠀⠀⠀⠀⠀⠀⠀⠀⠀⠀⠀⠀⠈⠀⠀⠀⠀⠀⠀⠀⠀⠀\n",
       "⠀⠀⠀⠀⠀⠀⠀⠀⠀⠀⠀⠀⠀⠀⠀⠀⠀⠀⠀⠀⠀⠀⠀⠀⠀⠀⠀⠀⠀⠀⠀⠀⠀⠀⠀⠀⠀⠀⠰⠀\n",
       "⠀⠀⠀⠀⠀⠀⠀⠀⠀⠀⠀⠀⠀⠀⠀⠀⠀⠀⠀⠀⠀⠀⠀⠀⠀⠀⠀⠀⠀⠀⠀⡠⠀⠀⠀⠀⠀⠀⠂⠀\n",
       "⠀⠀⠀⠀⠀⠀⠀⠀⠀⠀⠀⠀⠀⠀⠀⠀⠀⠀⠀⠀⠀⠀⠀⠀⠀⠀⠀⠀⠀⠀⠰⠀⠀⠀⠀⠀⠀⠀⠀⠀\n",
       "⠀⠀⠀⠀⠀⠀⠀⠀⠀⠀⠀⠀⠀⠀⠀⠀⠀⠀⠀⠀⠀⠀⠀⠀⠀⠀⠀⠀⠀⠀⠀⠀⠀⠀⠀⠀⠀⠀⠀⠀\n",
       "⠀⠀⠀⠀⠀⠀⠀⠀⠀⠀⠀⠀⠀⠀⠀⠀⠀⠀⠀⠀⠀⠀⠀⠀⠀⠀⠀⠀⠀⠀⠀⠀⠀⠀⠀⠀⠀⠀⠀⠀\n",
       "⠀⠀⠀⠀⠀⠀⠀⠀⠀⠆⠀⠀⠀⠀⠀⠀⠰⠀⠀⠀⠀⠀⠀⠀⠀⠀⠀⠀⠀⠀⠀⠀⠀⠀⠀⠀⠀⠀⠀⠀\n",
       "⠀⠠⠀⠀⠀⠀⠀⠀⠊⠀⠀⠀⠀⠀⠀⠐⠁⠀⠀⠀⠀⠀⠀⠀⠀⠀⠀⠀⠀⠀⠀⠀⠀⠀⠀⠀⠀⠀⠀⠀\n",
       "⠀⠆⠀⠀⠀⠀⠀⠀⠀⠀⠀⢀⠀⠀⠀⠀⠀⠀⠀⠀⠀⠀⠀⠀⠀⠀⠀⠀⠀⠀⠀⠀⠀⠀⠀⠀⠀⠀⠀⠀\n",
       "⠀⠀⠀⠀⠀⠀⠀⠀⠀⠀⢀⠄⠀⠀⠀⠀⠀⠀⠀⠀⠀⠀⠀⠀⠀⠀⠀⠀⠀⠀⠀⠀⠀⠀⠀⠀⠀⠀⠀⠀\n",
       "⠀⠀⠀⠀⠀⠀⠀⠀⠀⠀⠀⠀⠀⠀⠀⣠⠐⠂⠀⠀⠀⠀⠀⠀⠀⠀⠀⠀⠀⠀⠀⠀⠀⠀⠀⠀⠀⠀⠀⠀\n",
       "⠀⠀⠀⠀⠀⠀⠀⠀⠀⠀⠀⠀⠀⠀⠀⠁⠀⠀⠀⠀⠀⠀⠀⠀⠀⠀⠀⠀⠀⠀⠀⠀⠀⠀⠀⠀⠀⠀⠀⠀\n",
       "⠀⠀⠀⠀⠀⠀⠀⠀⠀⠀⠀⠀⠀⠀⠀⠀⠀⠀⠀⠀⠀⠀⠀⠀⠀⠀⠀⠀⠀⠀⠀⠀⠀⠀⠀⠀⠀⠀⠀⠀\n",
       "⠀⠀⠀⠀⠀⠀⠀⠀⠀⠀⠀⠀⠀⠀⠀⠀⠀⠀⠀⠀⠀⠀⠀⠀⠀⠀⠀⠀⠀⠀⠀⠀⠀⠀⠀⠀⠀⠀⠀⠀\n",
       "⠀⠀⠀⠀⠀⠀⠀⠀⠀⠀⠀⠀⢐⠆⠉⠀⠀⠀⠀⠀⠀⠀⠀⠀⠀⠀⠀⠀⠀⠀⠀⠀⠀⠀⠀⠀⠀⠀⠀⠀"
      ]
     },
     "execution_count": 14,
     "metadata": {},
     "output_type": "execute_result"
    }
   ],
   "source": [
    "H_sparse = sparse(H)"
   ]
  },
  {
   "cell_type": "code",
   "execution_count": 15,
   "id": "7073f729",
   "metadata": {},
   "outputs": [
    {
     "data": {
      "text/plain": [
       "256×256 SparseMatrixCSC{Complex{Int64}, Int64} with 64 stored entries:\n",
       "⠀⠀⠀⠀⠀⠀⠀⠀⠀⠀⠀⠀⠀⠀⠀⠀⠀⠀⠀⠀⠀⠀⠀⠀⠀⡀⠴⠄⠀⠀⠀⠀⠀⠀⠀⠀⠀⠀⠀⠀\n",
       "⠀⠀⠀⠀⠀⠀⠀⠀⠀⠀⠀⠀⠀⠀⠀⠀⠀⠀⠀⠀⠀⠀⠀⠀⠀⠁⠀⠀⠀⠀⠀⠀⠀⠀⠀⠀⠆⠀⠀⠀\n",
       "⠀⠀⠀⠀⠀⠀⠀⠀⠀⠀⠀⠀⠀⠀⠀⠀⠀⠀⠀⠀⠀⠀⠀⠀⠀⠀⠀⠀⠀⠀⠀⠀⠀⠀⠀⠰⠀⠀⠀⠀\n",
       "⠀⠀⠀⠀⠀⠀⠀⠀⠀⠀⠀⠀⠀⠀⠀⠀⠀⠀⠀⠀⠀⠀⠀⠀⠀⠀⠀⠀⠀⠀⠀⢀⠀⠀⠀⠀⠀⠀⠀⠀\n",
       "⠀⠀⠀⠀⠀⠀⠀⠀⠀⠀⠀⠀⠀⠀⠀⠀⠀⠀⠀⠀⠀⠀⢠⡔⠋⠀⠀⠀⠀⠀⢀⠁⠀⠀⠀⠀⠀⠀⠀⠀\n",
       "⠀⠀⠀⠀⠀⠀⠀⠀⠀⠀⠀⠀⠀⠀⠀⠀⠀⠀⠀⠀⠀⠀⠀⠀⠀⠀⠀⠀⠀⠀⠈⠀⠀⠀⠀⠀⠀⠀⠀⠀\n",
       "⠀⠀⠀⠀⠀⠀⠀⠀⠀⠀⠀⠀⠀⠀⠀⠀⠀⠀⠀⠀⠀⠀⠀⠀⠀⠀⠀⠀⠀⠀⠀⠀⠀⠀⠀⠀⠀⠀⠰⠀\n",
       "⠀⠀⠀⠀⠀⠀⠀⠀⠀⠀⠀⠀⠀⠀⠀⠀⠀⠀⠀⠀⠀⠀⠀⠀⠀⠀⠀⠀⠀⠀⠀⡠⠀⠀⠀⠀⠀⠀⠂⠀\n",
       "⠀⠀⠀⠀⠀⠀⠀⠀⠀⠀⠀⠀⠀⠀⠀⠀⠀⠀⠀⠀⠀⠀⠀⠀⠀⠀⠀⠀⠀⠀⠰⠀⠀⠀⠀⠀⠀⠀⠀⠀\n",
       "⠀⠀⠀⠀⠀⠀⠀⠀⠀⠀⠀⠀⠀⠀⠀⠀⠀⠀⠀⠀⠀⠀⠀⠀⠀⠀⠀⠀⠀⠀⠀⠀⠀⠀⠀⠀⠀⠀⠀⠀\n",
       "⠀⠀⠀⠀⠀⠀⠀⠀⠀⠀⠀⠀⠀⠀⠀⠀⠀⠀⠀⠀⠀⠀⠀⠀⠀⠀⠀⠀⠀⠀⠀⠀⠀⠀⠀⠀⠀⠀⠀⠀\n",
       "⠀⠀⠀⠀⠀⠀⠀⠀⠀⠆⠀⠀⠀⠀⠀⠀⠰⠀⠀⠀⠀⠀⠀⠀⠀⠀⠀⠀⠀⠀⠀⠀⠀⠀⠀⠀⠀⠀⠀⠀\n",
       "⠀⠠⠀⠀⠀⠀⠀⠀⠊⠀⠀⠀⠀⠀⠀⠐⠁⠀⠀⠀⠀⠀⠀⠀⠀⠀⠀⠀⠀⠀⠀⠀⠀⠀⠀⠀⠀⠀⠀⠀\n",
       "⠀⠆⠀⠀⠀⠀⠀⠀⠀⠀⠀⢀⠀⠀⠀⠀⠀⠀⠀⠀⠀⠀⠀⠀⠀⠀⠀⠀⠀⠀⠀⠀⠀⠀⠀⠀⠀⠀⠀⠀\n",
       "⠀⠀⠀⠀⠀⠀⠀⠀⠀⠀⢀⠄⠀⠀⠀⠀⠀⠀⠀⠀⠀⠀⠀⠀⠀⠀⠀⠀⠀⠀⠀⠀⠀⠀⠀⠀⠀⠀⠀⠀\n",
       "⠀⠀⠀⠀⠀⠀⠀⠀⠀⠀⠀⠀⠀⠀⠀⣠⠐⠂⠀⠀⠀⠀⠀⠀⠀⠀⠀⠀⠀⠀⠀⠀⠀⠀⠀⠀⠀⠀⠀⠀\n",
       "⠀⠀⠀⠀⠀⠀⠀⠀⠀⠀⠀⠀⠀⠀⠀⠁⠀⠀⠀⠀⠀⠀⠀⠀⠀⠀⠀⠀⠀⠀⠀⠀⠀⠀⠀⠀⠀⠀⠀⠀\n",
       "⠀⠀⠀⠀⠀⠀⠀⠀⠀⠀⠀⠀⠀⠀⠀⠀⠀⠀⠀⠀⠀⠀⠀⠀⠀⠀⠀⠀⠀⠀⠀⠀⠀⠀⠀⠀⠀⠀⠀⠀\n",
       "⠀⠀⠀⠀⠀⠀⠀⠀⠀⠀⠀⠀⠀⠀⠀⠀⠀⠀⠀⠀⠀⠀⠀⠀⠀⠀⠀⠀⠀⠀⠀⠀⠀⠀⠀⠀⠀⠀⠀⠀\n",
       "⠀⠀⠀⠀⠀⠀⠀⠀⠀⠀⠀⠀⢐⠆⠉⠀⠀⠀⠀⠀⠀⠀⠀⠀⠀⠀⠀⠀⠀⠀⠀⠀⠀⠀⠀⠀⠀⠀⠀⠀"
      ]
     },
     "execution_count": 15,
     "metadata": {},
     "output_type": "execute_result"
    }
   ],
   "source": [
    "H_sparse"
   ]
  },
  {
   "cell_type": "code",
   "execution_count": 22,
   "id": "d09d8f32",
   "metadata": {},
   "outputs": [],
   "source": [
    "eigenval, eigenvec = eigs(H_sparse);"
   ]
  },
  {
   "cell_type": "code",
   "execution_count": 23,
   "id": "2e6e4d1e",
   "metadata": {},
   "outputs": [
    {
     "data": {
      "text/plain": [
       "6-element Vector{ComplexF64}:\n",
       "   16.00000000000003 - 1.3322676295501878e-15im\n",
       "  16.000000000000018 - 6.626643678231403e-16im\n",
       "  16.000000000000018 + 1.5959455978986625e-16im\n",
       "  -16.00000000000001 + 5.551115123125783e-16im\n",
       " -16.000000000000004 + 9.974659986866641e-17im\n",
       "               -16.0 + 1.1832263763679883e-15im"
      ]
     },
     "execution_count": 23,
     "metadata": {},
     "output_type": "execute_result"
    }
   ],
   "source": [
    "eigenval "
   ]
  },
  {
   "cell_type": "code",
   "execution_count": 26,
   "id": "54443454",
   "metadata": {},
   "outputs": [
    {
     "data": {
      "text/plain": [
       "1536"
      ]
     },
     "execution_count": 26,
     "metadata": {},
     "output_type": "execute_result"
    }
   ],
   "source": [
    "length(eigenvec)"
   ]
  },
  {
   "cell_type": "code",
   "execution_count": 37,
   "id": "c43544f9",
   "metadata": {},
   "outputs": [
    {
     "data": {
      "text/plain": [
       "(256, 6)"
      ]
     },
     "execution_count": 37,
     "metadata": {},
     "output_type": "execute_result"
    }
   ],
   "source": [
    "size(eigenvec)"
   ]
  },
  {
   "cell_type": "code",
   "execution_count": 45,
   "id": "b6ca5360",
   "metadata": {},
   "outputs": [
    {
     "data": {
      "text/plain": [
       "6-element Vector{ComplexF64}:\n",
       " -1.4591557300322986e-17 + 3.1108953000694786e-17im\n",
       " -1.2911400985099488e-17 + 6.5506979720802854e-18im\n",
       " -1.2944299408750096e-17 - 9.792535360391392e-18im\n",
       "   1.370294092388348e-17 - 2.9141112523240656e-17im\n",
       "  -6.923149905452563e-18 - 7.165106121220642e-17im\n",
       "    -0.01607671450374713 + 0.020049954368231718im"
      ]
     },
     "execution_count": 45,
     "metadata": {},
     "output_type": "execute_result"
    }
   ],
   "source": [
    "eigenvec[1:6]"
   ]
  },
  {
   "cell_type": "code",
   "execution_count": 46,
   "id": "c67d879b",
   "metadata": {},
   "outputs": [
    {
     "data": {
      "text/plain": [
       "true"
      ]
     },
     "execution_count": 46,
     "metadata": {},
     "output_type": "execute_result"
    }
   ],
   "source": [
    "issparse(H_sparse)"
   ]
  },
  {
   "cell_type": "code",
   "execution_count": 73,
   "id": "bfa93e22",
   "metadata": {},
   "outputs": [
    {
     "data": {
      "text/plain": [
       "20-element Vector{ComplexF64}:\n",
       "     -16.00000000000005 - 2.3326401826124836e-15im\n",
       "    -16.000000000000043 - 3.1786617565739557e-15im\n",
       "    -16.000000000000036 + 9.098341353166155e-16im\n",
       "    -16.000000000000036 - 1.3440130336630781e-15im\n",
       "    -16.000000000000032 - 2.602249542492881e-15im\n",
       "    -16.000000000000025 - 1.3728928935843218e-16im\n",
       "    -16.000000000000025 + 5.260574212838918e-17im\n",
       "    -16.000000000000018 + 3.521725113862711e-15im\n",
       "    -16.000000000000018 + 4.999999541254113e-15im\n",
       "     -16.00000000000001 - 4.246662660581926e-15im\n",
       "    -16.000000000000007 + 2.121919907392798e-15im\n",
       "    -16.000000000000004 - 2.322871559646758e-15im\n",
       "    -16.000000000000004 - 1.3661449634982408e-15im\n",
       "    -15.999999999999996 + 4.572510868106485e-16im\n",
       "     -15.99999999999999 - 2.077162954299775e-15im\n",
       "    -15.999999999999984 - 4.181771526769446e-15im\n",
       " -1.4225413843488643e-8 + 2.9317838841882986e-9im\n",
       " -1.2148449251928126e-8 + 3.665087231333861e-11im\n",
       " -1.1960160628154327e-8 + 4.471336869306597e-9im\n",
       " -1.0391461482414857e-8 - 5.292587334717619e-9im"
      ]
     },
     "execution_count": 73,
     "metadata": {},
     "output_type": "execute_result"
    }
   ],
   "source": [
    "eigs(H_sparse,nev = 20,which = :SR)[1]"
   ]
  },
  {
   "cell_type": "code",
   "execution_count": 58,
   "id": "b938930c",
   "metadata": {},
   "outputs": [
    {
     "name": "stdout",
     "output_type": "stream",
     "text": [
      "search: \u001b[0m\u001b[1me\u001b[22m\u001b[0m\u001b[1mi\u001b[22m\u001b[0m\u001b[1mg\u001b[22m\u001b[0m\u001b[1ms\u001b[22m \u001b[0m\u001b[1me\u001b[22m\u001b[0m\u001b[1mi\u001b[22m\u001b[0m\u001b[1mg\u001b[22mvec\u001b[0m\u001b[1ms\u001b[22m \u001b[0m\u001b[1me\u001b[22m\u001b[0m\u001b[1mi\u001b[22m\u001b[0m\u001b[1mg\u001b[22mval\u001b[0m\u001b[1ms\u001b[22m \u001b[0m\u001b[1me\u001b[22m\u001b[0m\u001b[1mi\u001b[22m\u001b[0m\u001b[1mg\u001b[22mval\u001b[0m\u001b[1ms\u001b[22m! l\u001b[0m\u001b[1me\u001b[22mad\u001b[0m\u001b[1mi\u001b[22mn\u001b[0m\u001b[1mg\u001b[22m_one\u001b[0m\u001b[1ms\u001b[22m l\u001b[0m\u001b[1me\u001b[22mad\u001b[0m\u001b[1mi\u001b[22mn\u001b[0m\u001b[1mg\u001b[22m_zero\u001b[0m\u001b[1ms\u001b[22m \u001b[0m\u001b[1me\u001b[22m\u001b[0m\u001b[1mi\u001b[22m\u001b[0m\u001b[1mg\u001b[22men \u001b[0m\u001b[1me\u001b[22m\u001b[0m\u001b[1mi\u001b[22m\u001b[0m\u001b[1mg\u001b[22mmin\n",
      "\n"
     ]
    },
    {
     "data": {
      "text/latex": [
       "\\begin{verbatim}\n",
       "eigs(A; nev=6, ncv=max(20,2*nev+1), which=:LM, tol=0.0, maxiter=300, sigma=nothing, ritzvec=true, explicittransform=:auto, v0=zeros((0,)), check=0) -> (d,[v,],nconv,niter,nmult,resid)\n",
       "\\end{verbatim}\n",
       "Computes eigenvalues \\texttt{d} of \\texttt{A} using implicitly restarted Lanczos or Arnoldi iterations for real symmetric or general nonsymmetric matrices respectively. See \\href{@ref man-eigs}{the manual} for more information.\n",
       "\n",
       "\\texttt{eigs} returns the \\texttt{nev} requested eigenvalues in \\texttt{d}, the corresponding Ritz vectors \\texttt{v} (only if \\texttt{ritzvec=true}), the number of converged eigenvalues \\texttt{nconv}, the number of iterations \\texttt{niter} and the number of matrix vector multiplications \\texttt{nmult}, as well as the final residual vector \\texttt{resid}. The parameter \\texttt{explicittransform} takes the values \\texttt{:auto}, \\texttt{:none} or \\texttt{:shiftinvert}, specifying if shift and invert should be explicitly invoked in julia code.\n",
       "\n",
       "When \\texttt{check = 0}, an error is thrown if maximum number of iterations taken (\\texttt{info = 1}). This usually means all possible eigenvalues has been found according to ARPACK manual. When \\texttt{check = 1}, return currently converged eigenvalues when \\texttt{info = 1}. And a \\texttt{@warn} will given. When \\texttt{check = 2}, return currently converged eigenvalues when \\texttt{info = 1}.\n",
       "\n",
       "\\section{Examples}\n",
       "\\begin{verbatim}\n",
       "julia> using LinearAlgebra, Arpack\n",
       "\n",
       "julia> A = Diagonal(1:4);\n",
       "\n",
       "julia> λ, ϕ = eigs(A, nev = 2);\n",
       "\n",
       "julia> λ\n",
       "2-element Array{Float64,1}:\n",
       " 3.9999999999999996\n",
       " 3.000000000000001\n",
       "\\end{verbatim}\n",
       "\\rule{\\textwidth}{1pt}\n",
       "\\begin{verbatim}\n",
       "eigs(A, B; nev=6, ncv=max(20,2*nev+1), which=:LM, tol=0.0, maxiter=300, sigma=nothing, ritzvec=true, v0=zeros((0,)), check=0) -> (d,[v,],nconv,niter,nmult,resid)\n",
       "\\end{verbatim}\n",
       "Computes generalized eigenvalues \\texttt{d} of \\texttt{A} and \\texttt{B} using implicitly restarted Lanczos or Arnoldi iterations for real symmetric or general nonsymmetric matrices respectively. See \\href{@ref man-eigsgen}{the manual} for more information.\n",
       "\n",
       "When \\texttt{check = 0}, an error is thrown if maximum number of iterations taken (\\texttt{info = 1}). This usually means all possible eigenvalues has been found according to ARPACK manual. When \\texttt{check = 1}, return currently converged eigenvalues when \\texttt{info = 1}. And a \\texttt{@warn} will given. When \\texttt{check = 2}, return currently converged eigenvalues when \\texttt{info = 1}.\n",
       "\n"
      ],
      "text/markdown": [
       "```\n",
       "eigs(A; nev=6, ncv=max(20,2*nev+1), which=:LM, tol=0.0, maxiter=300, sigma=nothing, ritzvec=true, explicittransform=:auto, v0=zeros((0,)), check=0) -> (d,[v,],nconv,niter,nmult,resid)\n",
       "```\n",
       "\n",
       "Computes eigenvalues `d` of `A` using implicitly restarted Lanczos or Arnoldi iterations for real symmetric or general nonsymmetric matrices respectively. See [the manual](@ref man-eigs) for more information.\n",
       "\n",
       "`eigs` returns the `nev` requested eigenvalues in `d`, the corresponding Ritz vectors `v` (only if `ritzvec=true`), the number of converged eigenvalues `nconv`, the number of iterations `niter` and the number of matrix vector multiplications `nmult`, as well as the final residual vector `resid`. The parameter `explicittransform` takes the values `:auto`, `:none` or `:shiftinvert`, specifying if shift and invert should be explicitly invoked in julia code.\n",
       "\n",
       "When `check = 0`, an error is thrown if maximum number of iterations taken (`info = 1`). This usually means all possible eigenvalues has been found according to ARPACK manual. When `check = 1`, return currently converged eigenvalues when `info = 1`. And a `@warn` will given. When `check = 2`, return currently converged eigenvalues when `info = 1`.\n",
       "\n",
       "# Examples\n",
       "\n",
       "```jldoctest\n",
       "julia> using LinearAlgebra, Arpack\n",
       "\n",
       "julia> A = Diagonal(1:4);\n",
       "\n",
       "julia> λ, ϕ = eigs(A, nev = 2);\n",
       "\n",
       "julia> λ\n",
       "2-element Array{Float64,1}:\n",
       " 3.9999999999999996\n",
       " 3.000000000000001\n",
       "```\n",
       "\n",
       "---\n",
       "\n",
       "```\n",
       "eigs(A, B; nev=6, ncv=max(20,2*nev+1), which=:LM, tol=0.0, maxiter=300, sigma=nothing, ritzvec=true, v0=zeros((0,)), check=0) -> (d,[v,],nconv,niter,nmult,resid)\n",
       "```\n",
       "\n",
       "Computes generalized eigenvalues `d` of `A` and `B` using implicitly restarted Lanczos or Arnoldi iterations for real symmetric or general nonsymmetric matrices respectively. See [the manual](@ref man-eigsgen) for more information.\n",
       "\n",
       "When `check = 0`, an error is thrown if maximum number of iterations taken (`info = 1`). This usually means all possible eigenvalues has been found according to ARPACK manual. When `check = 1`, return currently converged eigenvalues when `info = 1`. And a `@warn` will given. When `check = 2`, return currently converged eigenvalues when `info = 1`.\n"
      ],
      "text/plain": [
       "\u001b[36m  eigs(A; nev=6, ncv=max(20,2*nev+1), which=:LM, tol=0.0, maxiter=300, sigma=nothing, ritzvec=true, explicittransform=:auto, v0=zeros((0,)), check=0) -> (d,[v,],nconv,niter,nmult,resid)\u001b[39m\n",
       "\n",
       "  Computes eigenvalues \u001b[36md\u001b[39m of \u001b[36mA\u001b[39m using implicitly restarted Lanczos or Arnoldi\n",
       "  iterations for real symmetric or general nonsymmetric matrices respectively.\n",
       "  See the manual for more information.\n",
       "\n",
       "  \u001b[36meigs\u001b[39m returns the \u001b[36mnev\u001b[39m requested eigenvalues in \u001b[36md\u001b[39m, the corresponding Ritz\n",
       "  vectors \u001b[36mv\u001b[39m (only if \u001b[36mritzvec=true\u001b[39m), the number of converged eigenvalues \u001b[36mnconv\u001b[39m,\n",
       "  the number of iterations \u001b[36mniter\u001b[39m and the number of matrix vector\n",
       "  multiplications \u001b[36mnmult\u001b[39m, as well as the final residual vector \u001b[36mresid\u001b[39m. The\n",
       "  parameter \u001b[36mexplicittransform\u001b[39m takes the values \u001b[36m:auto\u001b[39m, \u001b[36m:none\u001b[39m or \u001b[36m:shiftinvert\u001b[39m,\n",
       "  specifying if shift and invert should be explicitly invoked in julia code.\n",
       "\n",
       "  When \u001b[36mcheck = 0\u001b[39m, an error is thrown if maximum number of iterations taken\n",
       "  (\u001b[36minfo = 1\u001b[39m). This usually means all possible eigenvalues has been found\n",
       "  according to ARPACK manual. When \u001b[36mcheck = 1\u001b[39m, return currently converged\n",
       "  eigenvalues when \u001b[36minfo = 1\u001b[39m. And a \u001b[36m@warn\u001b[39m will given. When \u001b[36mcheck = 2\u001b[39m, return\n",
       "  currently converged eigenvalues when \u001b[36minfo = 1\u001b[39m.\n",
       "\n",
       "\u001b[1m  Examples\u001b[22m\n",
       "\u001b[1m  ≡≡≡≡≡≡≡≡≡≡\u001b[22m\n",
       "\n",
       "\u001b[36m  julia> using LinearAlgebra, Arpack\u001b[39m\n",
       "\u001b[36m  \u001b[39m\n",
       "\u001b[36m  julia> A = Diagonal(1:4);\u001b[39m\n",
       "\u001b[36m  \u001b[39m\n",
       "\u001b[36m  julia> λ, ϕ = eigs(A, nev = 2);\u001b[39m\n",
       "\u001b[36m  \u001b[39m\n",
       "\u001b[36m  julia> λ\u001b[39m\n",
       "\u001b[36m  2-element Array{Float64,1}:\u001b[39m\n",
       "\u001b[36m   3.9999999999999996\u001b[39m\n",
       "\u001b[36m   3.000000000000001\u001b[39m\n",
       "\n",
       "  ────────────────────────────────────────────────────────────────────────────\n",
       "\n",
       "\u001b[36m  eigs(A, B; nev=6, ncv=max(20,2*nev+1), which=:LM, tol=0.0, maxiter=300, sigma=nothing, ritzvec=true, v0=zeros((0,)), check=0) -> (d,[v,],nconv,niter,nmult,resid)\u001b[39m\n",
       "\n",
       "  Computes generalized eigenvalues \u001b[36md\u001b[39m of \u001b[36mA\u001b[39m and \u001b[36mB\u001b[39m using implicitly restarted\n",
       "  Lanczos or Arnoldi iterations for real symmetric or general nonsymmetric\n",
       "  matrices respectively. See the manual for more information.\n",
       "\n",
       "  When \u001b[36mcheck = 0\u001b[39m, an error is thrown if maximum number of iterations taken\n",
       "  (\u001b[36minfo = 1\u001b[39m). This usually means all possible eigenvalues has been found\n",
       "  according to ARPACK manual. When \u001b[36mcheck = 1\u001b[39m, return currently converged\n",
       "  eigenvalues when \u001b[36minfo = 1\u001b[39m. And a \u001b[36m@warn\u001b[39m will given. When \u001b[36mcheck = 2\u001b[39m, return\n",
       "  currently converged eigenvalues when \u001b[36minfo = 1\u001b[39m."
      ]
     },
     "execution_count": 58,
     "metadata": {},
     "output_type": "execute_result"
    }
   ],
   "source": [
    "?eigs"
   ]
  },
  {
   "cell_type": "code",
   "execution_count": null,
   "id": "fe6daba5",
   "metadata": {},
   "outputs": [],
   "source": []
  }
 ],
 "metadata": {
  "kernelspec": {
   "display_name": "Julia 1.6.3",
   "language": "julia",
   "name": "julia-1.6"
  },
  "language_info": {
   "file_extension": ".jl",
   "mimetype": "application/julia",
   "name": "julia",
   "version": "1.6.3"
  }
 },
 "nbformat": 4,
 "nbformat_minor": 5
}
