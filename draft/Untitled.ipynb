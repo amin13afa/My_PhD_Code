{
 "cells": [
  {
   "cell_type": "code",
   "execution_count": 23,
   "id": "03a76726",
   "metadata": {},
   "outputs": [],
   "source": [
    "using LinearAlgebra\n",
    "using SparseArrays\n",
    "using Arpack"
   ]
  },
  {
   "cell_type": "code",
   "execution_count": 2,
   "id": "c0209dc4",
   "metadata": {},
   "outputs": [],
   "source": [
    "σˣ = [0 1; 1 0];\n",
    "σʸ = [0 -im; im 0];\n",
    "σᶻ = [1 0; 0 -1];"
   ]
  },
  {
   "cell_type": "code",
   "execution_count": 3,
   "id": "b04150c7",
   "metadata": {},
   "outputs": [],
   "source": [
    "u0 = [0 0 1 0; 0 0 0 1; 1 0 0 0; 0 1 0 0];\n",
    "u1 = [0 0 0 -im; 0 0 -im 0; 0 im 0 0; im 0 0 0];\n",
    "u2 = [0 0 0 -1; 0 0 1 0; 0 1 0 0; -1 0 0 0];\n",
    "u3 = [0 0 -im 0; 0 0 0 im; im 0 0 0; 0 -im 0 0];"
   ]
  },
  {
   "cell_type": "code",
   "execution_count": 4,
   "id": "82c46e9a",
   "metadata": {},
   "outputs": [
    {
     "data": {
      "text/plain": [
       "dagger (generic function with 1 method)"
      ]
     },
     "execution_count": 4,
     "metadata": {},
     "output_type": "execute_result"
    }
   ],
   "source": [
    "dagger(T) = conj(transpose(T))"
   ]
  },
  {
   "cell_type": "code",
   "execution_count": 5,
   "id": "c6e177ed",
   "metadata": {},
   "outputs": [
    {
     "data": {
      "text/plain": [
       "⊗ (generic function with 1 method)"
      ]
     },
     "execution_count": 5,
     "metadata": {},
     "output_type": "execute_result"
    }
   ],
   "source": [
    "⊗(x,y) = kron(x,y)"
   ]
  },
  {
   "cell_type": "code",
   "execution_count": 7,
   "id": "15370015",
   "metadata": {},
   "outputs": [],
   "source": [
    "u00 = [u0+im*u3 im*u1+u2; im*u1-u2 u0-im*u3];\n",
    "u00_dag = [u0-im*u3 -im*u1-u2; -im*u1+u2 u0+im*u3];"
   ]
  },
  {
   "cell_type": "code",
   "execution_count": 8,
   "id": "a9cd5556",
   "metadata": {},
   "outputs": [
    {
     "data": {
      "text/plain": [
       "H0"
      ]
     },
     "execution_count": 8,
     "metadata": {},
     "output_type": "execute_result"
    }
   ],
   "source": [
    "\"\"\"\n",
    "On our lattice we have just four site\n",
    "!! But without considering any boundry condition\n",
    "We just examine our codes\n",
    "\"\"\"\n",
    "H0 = ⊗(⊗(u00,u00),⊗(u00_dag,u00_dag)) + ⊗(⊗(u00,u00),⊗(u00_dag,u00_dag))"
   ]
  },
  {
   "cell_type": "code",
   "execution_count": 9,
   "id": "29c5de9d",
   "metadata": {},
   "outputs": [],
   "source": [
    "u11 = u0+im*u3;\n",
    "u12 = im*u1+u2;\n",
    "u21 = im*u1-u2;\n",
    "u22 = u0-im*u3;"
   ]
  },
  {
   "cell_type": "code",
   "execution_count": 10,
   "id": "cad3d9bd",
   "metadata": {},
   "outputs": [],
   "source": [
    "u11_dag = u0-im*u3;\n",
    "u12_dag = -im*u1-u2;\n",
    "u21_dag = -im*u1+u2;\n",
    "u22_dag = u0+im*u3;"
   ]
  },
  {
   "cell_type": "code",
   "execution_count": 11,
   "id": "dd836e14",
   "metadata": {},
   "outputs": [
    {
     "data": {
      "text/plain": [
       "256×256 Matrix{Complex{Int64}}:\n",
       " 0+0im  0+0im  0+0im  0+0im  0+0im  …  0+0im  0+0im  0+0im  0+0im  0+0im\n",
       " 0+0im  0+0im  0+0im  0+0im  0+0im     0+0im  0+0im  0+0im  0+0im  0+0im\n",
       " 0+0im  0+0im  0+0im  0+0im  0+0im     0+0im  0+0im  0+0im  0+0im  0+0im\n",
       " 0+0im  0+0im  0+0im  0+0im  0+0im     0+0im  0+0im  0+0im  0+0im  0+0im\n",
       " 0+0im  0+0im  0+0im  0+0im  0+0im     0+0im  0+0im  0+0im  0+0im  0+0im\n",
       " 0+0im  0+0im  0+0im  0+0im  0+0im  …  0+0im  0+0im  0+0im  0+0im  0+0im\n",
       " 0+0im  0+0im  0+0im  0+0im  0+0im     0+0im  0+0im  0+0im  0+0im  0+0im\n",
       " 0+0im  0+0im  0+0im  0+0im  0+0im     0+0im  0+0im  0+0im  0+0im  0+0im\n",
       " 0+0im  0+0im  0+0im  0+0im  0+0im     0+0im  0+0im  0+0im  0+0im  0+0im\n",
       " 0+0im  0+0im  0+0im  0+0im  0+0im     0+0im  0+0im  0+0im  0+0im  0+0im\n",
       " 0+0im  0+0im  0+0im  0+0im  0+0im  …  0+0im  0+0im  0+0im  0+0im  0+0im\n",
       " 0+0im  0+0im  0+0im  0+0im  0+0im     0+0im  0+0im  0+0im  0+0im  0+0im\n",
       " 0+0im  0+0im  0+0im  0+0im  0+0im     0+0im  0+0im  0+0im  0+0im  0+0im\n",
       "  ⋮                                 ⋱                               ⋮\n",
       " 0+0im  0+0im  0+0im  0+0im  0+0im     0+0im  0+0im  0+0im  0+0im  0+0im\n",
       " 0+0im  0+0im  0+0im  0+0im  0+0im  …  0+0im  0+0im  0+0im  0+0im  0+0im\n",
       " 0+0im  0+0im  0+0im  0+0im  0+0im     0+0im  0+0im  0+0im  0+0im  0+0im\n",
       " 0+0im  0+0im  0+0im  0+0im  0+0im     0+0im  0+0im  0+0im  0+0im  0+0im\n",
       " 0+0im  0+0im  0+0im  0+0im  0+0im     0+0im  0+0im  0+0im  0+0im  0+0im\n",
       " 0+0im  0+0im  0+0im  0+0im  0+0im     0+0im  0+0im  0+0im  0+0im  0+0im\n",
       " 0+0im  0+0im  0+0im  0+0im  0+0im  …  0+0im  0+0im  0+0im  0+0im  0+0im\n",
       " 0+0im  0+0im  0+0im  0+0im  0+0im     0+0im  0+0im  0+0im  0+0im  0+0im\n",
       " 0+0im  0+0im  0+0im  0+0im  0+0im     0+0im  0+0im  0+0im  0+0im  0+0im\n",
       " 0+0im  0+0im  0+0im  0+0im  0+0im     0+0im  0+0im  0+0im  0+0im  0+0im\n",
       " 0+0im  0+0im  0+0im  0+0im  0+0im     0+0im  0+0im  0+0im  0+0im  0+0im\n",
       " 0+0im  0+0im  0+0im  0+0im  0+0im  …  0+0im  0+0im  0+0im  0+0im  0+0im"
      ]
     },
     "execution_count": 11,
     "metadata": {},
     "output_type": "execute_result"
    }
   ],
   "source": [
    "\"\"\"\n",
    "Tr(U_sq)\n",
    "\"\"\"\n",
    "H_U_sq = ⊗(⊗(u11,u11),⊗(u11_dag,u11_dag)) +  ⊗(⊗(u11,u11),⊗(u12_dag,u21_dag)) \n",
    "        +  ⊗(⊗(u12,u21),⊗(u11_dag,u11_dag)) +  ⊗(⊗(u12,u21),⊗(u12_dag,u21_dag))\n",
    "        +  ⊗(⊗(u11,u12),⊗(u21_dag,u11_dag)) +  ⊗(⊗(u11,u12),⊗(u22_dag,u21_dag))\n",
    "        +  ⊗(⊗(u12,u22),⊗(u21_dag,u11_dag)) +  ⊗(⊗(u12,u22),⊗(u22_dag,u21_dag))\n",
    "        +  ⊗(⊗(u21,u11),⊗(u11_dag,u12_dag)) +  ⊗(⊗(u21,u11),⊗(u12_dag,u22_dag)) \n",
    "        +  ⊗(⊗(u22,u21),⊗(u11_dag,u12_dag)) +  ⊗(⊗(u22,u21),⊗(u12_dag,u22_dag)) \n",
    "        +  ⊗(⊗(u21,u12),⊗(u21_dag,u12_dag)) +  ⊗(⊗(u21,u12),⊗(u22_dag,u22_dag)) \n",
    "        +  ⊗(⊗(u22,u22),⊗(u21_dag,u12_dag)) +  ⊗(⊗(u22,u22),⊗(u22_dag,u22_dag))\n",
    "        "
   ]
  },
  {
   "cell_type": "code",
   "execution_count": 12,
   "id": "03eb9b1b",
   "metadata": {},
   "outputs": [
    {
     "data": {
      "text/plain": [
       "256×256 Matrix{Complex{Int64}}:\n",
       " 0+0im  0+0im  0+0im  0+0im  0+0im  …  0+0im  0+0im  0+0im  0+0im  0+0im\n",
       " 0+0im  0+0im  0+0im  0+0im  0+0im     0+0im  0+0im  0+0im  0+0im  0+0im\n",
       " 0+0im  0+0im  0+0im  0+0im  0+0im     0+0im  0+0im  0+0im  0+0im  0+0im\n",
       " 0+0im  0+0im  0+0im  0+0im  0+0im     0+0im  0+0im  0+0im  0+0im  0+0im\n",
       " 0+0im  0+0im  0+0im  0+0im  0+0im     0+0im  0+0im  0+0im  0+0im  0+0im\n",
       " 0+0im  0+0im  0+0im  0+0im  0+0im  …  0+0im  0+0im  0+0im  0+0im  0+0im\n",
       " 0+0im  0+0im  0+0im  0+0im  0+0im     0+0im  0+0im  0+0im  0+0im  0+0im\n",
       " 0+0im  0+0im  0+0im  0+0im  0+0im     0+0im  0+0im  0+0im  0+0im  0+0im\n",
       " 0+0im  0+0im  0+0im  0+0im  0+0im     0+0im  0+0im  0+0im  0+0im  0+0im\n",
       " 0+0im  0+0im  0+0im  0+0im  0+0im     0+0im  0+0im  0+0im  0+0im  0+0im\n",
       " 0+0im  0+0im  0+0im  0+0im  0+0im  …  0+0im  0+0im  0+0im  0+0im  0+0im\n",
       " 0+0im  0+0im  0+0im  0+0im  0+0im     0+0im  0+0im  0+0im  0+0im  0+0im\n",
       " 0+0im  0+0im  0+0im  0+0im  0+0im     0+0im  0+0im  0+0im  0+0im  0+0im\n",
       "  ⋮                                 ⋱                               ⋮\n",
       " 0+0im  0+0im  0+0im  0+0im  0+0im     0+0im  0+0im  0+0im  0+0im  0+0im\n",
       " 0+0im  0+0im  0+0im  0+0im  0+0im  …  0+0im  0+0im  0+0im  0+0im  0+0im\n",
       " 0+0im  0+0im  0+0im  0+0im  0+0im     0+0im  0+0im  0+0im  0+0im  0+0im\n",
       " 0+0im  0+0im  0+0im  0+0im  0+0im     0+0im  0+0im  0+0im  0+0im  0+0im\n",
       " 0+0im  0+0im  0+0im  0+0im  0+0im     0+0im  0+0im  0+0im  0+0im  0+0im\n",
       " 0+0im  0+0im  0+0im  0+0im  0+0im     0+0im  0+0im  0+0im  0+0im  0+0im\n",
       " 0+0im  0+0im  0+0im  0+0im  0+0im  …  0+0im  0+0im  0+0im  0+0im  0+0im\n",
       " 0+0im  0+0im  0+0im  0+0im  0+0im     0+0im  0+0im  0+0im  0+0im  0+0im\n",
       " 0+0im  0+0im  0+0im  0+0im  0+0im     0+0im  0+0im  0+0im  0+0im  0+0im\n",
       " 0+0im  0+0im  0+0im  0+0im  0+0im     0+0im  0+0im  0+0im  0+0im  0+0im\n",
       " 0+0im  0+0im  0+0im  0+0im  0+0im     0+0im  0+0im  0+0im  0+0im  0+0im\n",
       " 0+0im  0+0im  0+0im  0+0im  0+0im  …  0+0im  0+0im  0+0im  0+0im  0+0im"
      ]
     },
     "execution_count": 12,
     "metadata": {},
     "output_type": "execute_result"
    }
   ],
   "source": [
    "\"\"\"\n",
    "Tr(U_sq_dag)\n",
    "\"\"\"\n",
    "H_U_sq_dag =  ⊗(⊗(u11_dag,u11_dag),⊗(u11,u11)) + ⊗(⊗(u21_dag,u12_dag),⊗(u11,u11)) \n",
    "            + ⊗(⊗(u11_dag,u11_dag),⊗(u21,u12)) + ⊗(⊗(u21_dag,u12_dag),⊗(u21,u12))\n",
    "            + ⊗(⊗(u11_dag,u21_dag),⊗(u12,u11)) + ⊗(⊗(u21_dag,u22_dag),⊗(u12,u11))\n",
    "            + ⊗(⊗(u11_dag,u21_dag),⊗(u22,u12)) + ⊗(⊗(u21_dag,u22_dag),⊗(u22,u12))\n",
    "            + ⊗(⊗(u12_dag,u11_dag),⊗(u11,u21)) + ⊗(⊗(u22_dag,u12_dag),⊗(u11,u21))\n",
    "            + ⊗(⊗(u12_dag,u11_dag),⊗(u21,u22)) + ⊗(⊗(u22_dag,u12_dag),⊗(u21,u22))\n",
    "            + ⊗(⊗(u12_dag,u21_dag),⊗(u12,u21)) + ⊗(⊗(u22_dag,u22_dag),⊗(u12,u21)) \n",
    "            + ⊗(⊗(u12_dag,u21_dag),⊗(u22,u22)) + ⊗(⊗(u22_dag,u22_dag),⊗(u22,u22)) "
   ]
  },
  {
   "cell_type": "code",
   "execution_count": 13,
   "id": "5351c13c",
   "metadata": {},
   "outputs": [],
   "source": [
    "H = H_U_sq + H_U_sq_dag;"
   ]
  },
  {
   "cell_type": "code",
   "execution_count": 14,
   "id": "08f30758",
   "metadata": {},
   "outputs": [
    {
     "data": {
      "text/plain": [
       "256×256 SparseMatrixCSC{Complex{Int64}, Int64} with 64 stored entries:\n",
       "⠀⠀⠀⠀⠀⠀⠀⠀⠀⠀⠀⠀⠀⠀⠀⠀⠀⠀⠀⠀⠀⠀⠀⠀⠀⡀⠴⠄⠀⠀⠀⠀⠀⠀⠀⠀⠀⠀⠀⠀\n",
       "⠀⠀⠀⠀⠀⠀⠀⠀⠀⠀⠀⠀⠀⠀⠀⠀⠀⠀⠀⠀⠀⠀⠀⠀⠀⠁⠀⠀⠀⠀⠀⠀⠀⠀⠀⠀⠆⠀⠀⠀\n",
       "⠀⠀⠀⠀⠀⠀⠀⠀⠀⠀⠀⠀⠀⠀⠀⠀⠀⠀⠀⠀⠀⠀⠀⠀⠀⠀⠀⠀⠀⠀⠀⠀⠀⠀⠀⠰⠀⠀⠀⠀\n",
       "⠀⠀⠀⠀⠀⠀⠀⠀⠀⠀⠀⠀⠀⠀⠀⠀⠀⠀⠀⠀⠀⠀⠀⠀⠀⠀⠀⠀⠀⠀⠀⢀⠀⠀⠀⠀⠀⠀⠀⠀\n",
       "⠀⠀⠀⠀⠀⠀⠀⠀⠀⠀⠀⠀⠀⠀⠀⠀⠀⠀⠀⠀⠀⠀⢠⡔⠋⠀⠀⠀⠀⠀⢀⠁⠀⠀⠀⠀⠀⠀⠀⠀\n",
       "⠀⠀⠀⠀⠀⠀⠀⠀⠀⠀⠀⠀⠀⠀⠀⠀⠀⠀⠀⠀⠀⠀⠀⠀⠀⠀⠀⠀⠀⠀⠈⠀⠀⠀⠀⠀⠀⠀⠀⠀\n",
       "⠀⠀⠀⠀⠀⠀⠀⠀⠀⠀⠀⠀⠀⠀⠀⠀⠀⠀⠀⠀⠀⠀⠀⠀⠀⠀⠀⠀⠀⠀⠀⠀⠀⠀⠀⠀⠀⠀⠰⠀\n",
       "⠀⠀⠀⠀⠀⠀⠀⠀⠀⠀⠀⠀⠀⠀⠀⠀⠀⠀⠀⠀⠀⠀⠀⠀⠀⠀⠀⠀⠀⠀⠀⡠⠀⠀⠀⠀⠀⠀⠂⠀\n",
       "⠀⠀⠀⠀⠀⠀⠀⠀⠀⠀⠀⠀⠀⠀⠀⠀⠀⠀⠀⠀⠀⠀⠀⠀⠀⠀⠀⠀⠀⠀⠰⠀⠀⠀⠀⠀⠀⠀⠀⠀\n",
       "⠀⠀⠀⠀⠀⠀⠀⠀⠀⠀⠀⠀⠀⠀⠀⠀⠀⠀⠀⠀⠀⠀⠀⠀⠀⠀⠀⠀⠀⠀⠀⠀⠀⠀⠀⠀⠀⠀⠀⠀\n",
       "⠀⠀⠀⠀⠀⠀⠀⠀⠀⠀⠀⠀⠀⠀⠀⠀⠀⠀⠀⠀⠀⠀⠀⠀⠀⠀⠀⠀⠀⠀⠀⠀⠀⠀⠀⠀⠀⠀⠀⠀\n",
       "⠀⠀⠀⠀⠀⠀⠀⠀⠀⠆⠀⠀⠀⠀⠀⠀⠰⠀⠀⠀⠀⠀⠀⠀⠀⠀⠀⠀⠀⠀⠀⠀⠀⠀⠀⠀⠀⠀⠀⠀\n",
       "⠀⠠⠀⠀⠀⠀⠀⠀⠊⠀⠀⠀⠀⠀⠀⠐⠁⠀⠀⠀⠀⠀⠀⠀⠀⠀⠀⠀⠀⠀⠀⠀⠀⠀⠀⠀⠀⠀⠀⠀\n",
       "⠀⠆⠀⠀⠀⠀⠀⠀⠀⠀⠀⢀⠀⠀⠀⠀⠀⠀⠀⠀⠀⠀⠀⠀⠀⠀⠀⠀⠀⠀⠀⠀⠀⠀⠀⠀⠀⠀⠀⠀\n",
       "⠀⠀⠀⠀⠀⠀⠀⠀⠀⠀⢀⠄⠀⠀⠀⠀⠀⠀⠀⠀⠀⠀⠀⠀⠀⠀⠀⠀⠀⠀⠀⠀⠀⠀⠀⠀⠀⠀⠀⠀\n",
       "⠀⠀⠀⠀⠀⠀⠀⠀⠀⠀⠀⠀⠀⠀⠀⣠⠐⠂⠀⠀⠀⠀⠀⠀⠀⠀⠀⠀⠀⠀⠀⠀⠀⠀⠀⠀⠀⠀⠀⠀\n",
       "⠀⠀⠀⠀⠀⠀⠀⠀⠀⠀⠀⠀⠀⠀⠀⠁⠀⠀⠀⠀⠀⠀⠀⠀⠀⠀⠀⠀⠀⠀⠀⠀⠀⠀⠀⠀⠀⠀⠀⠀\n",
       "⠀⠀⠀⠀⠀⠀⠀⠀⠀⠀⠀⠀⠀⠀⠀⠀⠀⠀⠀⠀⠀⠀⠀⠀⠀⠀⠀⠀⠀⠀⠀⠀⠀⠀⠀⠀⠀⠀⠀⠀\n",
       "⠀⠀⠀⠀⠀⠀⠀⠀⠀⠀⠀⠀⠀⠀⠀⠀⠀⠀⠀⠀⠀⠀⠀⠀⠀⠀⠀⠀⠀⠀⠀⠀⠀⠀⠀⠀⠀⠀⠀⠀\n",
       "⠀⠀⠀⠀⠀⠀⠀⠀⠀⠀⠀⠀⢐⠆⠉⠀⠀⠀⠀⠀⠀⠀⠀⠀⠀⠀⠀⠀⠀⠀⠀⠀⠀⠀⠀⠀⠀⠀⠀⠀"
      ]
     },
     "execution_count": 14,
     "metadata": {},
     "output_type": "execute_result"
    }
   ],
   "source": [
    "H_sparse = sparse(H)"
   ]
  },
  {
   "cell_type": "code",
   "execution_count": 15,
   "id": "63be4c88",
   "metadata": {},
   "outputs": [
    {
     "data": {
      "text/plain": [
       "256×256 Matrix{Complex{Int64}}:\n",
       " 0+0im  0+0im  0+0im  0+0im  0+0im  …  0+0im  0+0im  0+0im  0+0im  0+0im\n",
       " 0+0im  0+0im  0+0im  0+0im  0+0im     0+0im  0+0im  0+0im  0+0im  0+0im\n",
       " 0+0im  0+0im  0+0im  0+0im  0+0im     0+0im  0+0im  0+0im  0+0im  0+0im\n",
       " 0+0im  0+0im  0+0im  0+0im  0+0im     0+0im  0+0im  0+0im  0+0im  0+0im\n",
       " 0+0im  0+0im  0+0im  0+0im  0+0im     0+0im  0+0im  0+0im  0+0im  0+0im\n",
       " 0+0im  0+0im  0+0im  0+0im  0+0im  …  0+0im  0+0im  0+0im  0+0im  0+0im\n",
       " 0+0im  0+0im  0+0im  0+0im  0+0im     0+0im  0+0im  0+0im  0+0im  0+0im\n",
       " 0+0im  0+0im  0+0im  0+0im  0+0im     0+0im  0+0im  0+0im  0+0im  0+0im\n",
       " 0+0im  0+0im  0+0im  0+0im  0+0im     0+0im  0+0im  0+0im  0+0im  0+0im\n",
       " 0+0im  0+0im  0+0im  0+0im  0+0im     0+0im  0+0im  0+0im  0+0im  0+0im\n",
       " 0+0im  0+0im  0+0im  0+0im  0+0im  …  0+0im  0+0im  0+0im  0+0im  0+0im\n",
       " 0+0im  0+0im  0+0im  0+0im  0+0im     0+0im  0+0im  0+0im  0+0im  0+0im\n",
       " 0+0im  0+0im  0+0im  0+0im  0+0im     0+0im  0+0im  0+0im  0+0im  0+0im\n",
       "  ⋮                                 ⋱                               ⋮\n",
       " 0+0im  0+0im  0+0im  0+0im  0+0im     0+0im  0+0im  0+0im  0+0im  0+0im\n",
       " 0+0im  0+0im  0+0im  0+0im  0+0im  …  0+0im  0+0im  0+0im  0+0im  0+0im\n",
       " 0+0im  0+0im  0+0im  0+0im  0+0im     0+0im  0+0im  0+0im  0+0im  0+0im\n",
       " 0+0im  0+0im  0+0im  0+0im  0+0im     0+0im  0+0im  0+0im  0+0im  0+0im\n",
       " 0+0im  0+0im  0+0im  0+0im  0+0im     0+0im  0+0im  0+0im  0+0im  0+0im\n",
       " 0+0im  0+0im  0+0im  0+0im  0+0im     0+0im  0+0im  0+0im  0+0im  0+0im\n",
       " 0+0im  0+0im  0+0im  0+0im  0+0im  …  0+0im  0+0im  0+0im  0+0im  0+0im\n",
       " 0+0im  0+0im  0+0im  0+0im  0+0im     0+0im  0+0im  0+0im  0+0im  0+0im\n",
       " 0+0im  0+0im  0+0im  0+0im  0+0im     0+0im  0+0im  0+0im  0+0im  0+0im\n",
       " 0+0im  0+0im  0+0im  0+0im  0+0im     0+0im  0+0im  0+0im  0+0im  0+0im\n",
       " 0+0im  0+0im  0+0im  0+0im  0+0im     0+0im  0+0im  0+0im  0+0im  0+0im\n",
       " 0+0im  0+0im  0+0im  0+0im  0+0im  …  0+0im  0+0im  0+0im  0+0im  0+0im"
      ]
     },
     "execution_count": 15,
     "metadata": {},
     "output_type": "execute_result"
    }
   ],
   "source": [
    "H"
   ]
  },
  {
   "cell_type": "code",
   "execution_count": 16,
   "id": "758185c4",
   "metadata": {},
   "outputs": [
    {
     "data": {
      "text/plain": [
       "65536"
      ]
     },
     "execution_count": 16,
     "metadata": {},
     "output_type": "execute_result"
    }
   ],
   "source": [
    " length(H_sparse)"
   ]
  },
  {
   "cell_type": "code",
   "execution_count": 17,
   "id": "7cb66b11",
   "metadata": {},
   "outputs": [
    {
     "data": {
      "text/plain": [
       "(256, 256)"
      ]
     },
     "execution_count": 17,
     "metadata": {},
     "output_type": "execute_result"
    }
   ],
   "source": [
    "size(H_sparse)"
   ]
  },
  {
   "cell_type": "code",
   "execution_count": 18,
   "id": "b95ecdc7",
   "metadata": {},
   "outputs": [
    {
     "data": {
      "text/plain": [
       "(256, 256)"
      ]
     },
     "execution_count": 18,
     "metadata": {},
     "output_type": "execute_result"
    }
   ],
   "source": [
    "size(H)"
   ]
  },
  {
   "cell_type": "code",
   "execution_count": 19,
   "id": "29dd944a",
   "metadata": {},
   "outputs": [
    {
     "data": {
      "text/plain": [
       "Complex{Int64}"
      ]
     },
     "execution_count": 19,
     "metadata": {},
     "output_type": "execute_result"
    }
   ],
   "source": [
    "eltype(H_sparse)"
   ]
  },
  {
   "cell_type": "code",
   "execution_count": 24,
   "id": "f537f75d",
   "metadata": {},
   "outputs": [],
   "source": [
    "eigenval, eigenvec = eigs(H_sparse);"
   ]
  },
  {
   "cell_type": "code",
   "execution_count": 25,
   "id": "9937d1de",
   "metadata": {},
   "outputs": [
    {
     "data": {
      "text/plain": [
       "(6,)"
      ]
     },
     "execution_count": 25,
     "metadata": {},
     "output_type": "execute_result"
    }
   ],
   "source": [
    "size(eigenval)"
   ]
  },
  {
   "cell_type": "code",
   "execution_count": 26,
   "id": "a44493d5",
   "metadata": {},
   "outputs": [
    {
     "data": {
      "text/plain": [
       "(256, 6)"
      ]
     },
     "execution_count": 26,
     "metadata": {},
     "output_type": "execute_result"
    }
   ],
   "source": [
    "size(eigenvec)"
   ]
  },
  {
   "cell_type": "code",
   "execution_count": 30,
   "id": "d8f0c2da",
   "metadata": {},
   "outputs": [
    {
     "data": {
      "text/plain": [
       "16.0 + 2.914335439641036e-16im"
      ]
     },
     "execution_count": 30,
     "metadata": {},
     "output_type": "execute_result"
    }
   ],
   "source": [
    "eigenval[6]"
   ]
  },
  {
   "cell_type": "code",
   "execution_count": null,
   "id": "22c50be1",
   "metadata": {},
   "outputs": [],
   "source": []
  },
  {
   "cell_type": "code",
   "execution_count": null,
   "id": "7f2973f5",
   "metadata": {},
   "outputs": [],
   "source": []
  }
 ],
 "metadata": {
  "kernelspec": {
   "display_name": "Julia 1.6.3",
   "language": "julia",
   "name": "julia-1.6"
  },
  "language_info": {
   "file_extension": ".jl",
   "mimetype": "application/julia",
   "name": "julia",
   "version": "1.6.3"
  }
 },
 "nbformat": 4,
 "nbformat_minor": 5
}
